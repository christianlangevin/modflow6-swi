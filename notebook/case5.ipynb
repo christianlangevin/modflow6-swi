{
 "cells": [
  {
   "cell_type": "markdown",
   "metadata": {},
   "source": [
    "# Case 5 -- Steady Constant Sea Level (from Joe)\n",
    "\n",
    "Comparison with MODFLOW-USG results\n",
    "Does NOT use Newton formulation"
   ]
  },
  {
   "cell_type": "code",
   "execution_count": null,
   "metadata": {},
   "outputs": [],
   "source": [
    "import pathlib as pl\n",
    "import numpy as np\n",
    "import flopy\n",
    "\n",
    "# path to mf6 shared library\n",
    "# executables based on mf6 feat-swi branch at: \n",
    "#   https://github.com/langevin-usgs/modflow6/tree/feat-swi-correction\n",
    "\n",
    "# Put the name of the mf6 executable into mf6exe.txt,\n",
    "# which is not under version control.\n",
    "with open(pl.Path(\"./mf6exe.txt\"), \"r\") as f:\n",
    "    mf6exe = f.readline().strip()\n",
    "print(f\"using executable: {mf6exe}\")\n",
    "\n",
    "sim_ws = pl.Path(\"./temp/case5\")"
   ]
  },
  {
   "cell_type": "markdown",
   "metadata": {},
   "source": [
    "## MODFLOW-USG results for problem"
   ]
  },
  {
   "cell_type": "code",
   "execution_count": null,
   "metadata": {},
   "outputs": [],
   "source": [
    "hds_usg = np.array(\n",
    "      [0.2       , 0.59686235, 0.76508142, 0.89446596, 1.00096258,\n",
    "       1.0914691 , 1.16976336, 1.23818961, 1.29832132, 1.35127281,\n",
    "       1.397864  , 1.43871521, 1.47430508, 1.50500784, 1.53111814,\n",
    "       1.55286808, 1.57043912, 1.58397057, 1.59356545, 1.59929471,\n",
    "       1.60119991, 1.59929471, 1.59356545, 1.58397057, 1.57043912,\n",
    "       1.55286808, 1.53111814, 1.50500784, 1.47430508, 1.43871521,\n",
    "       1.397864  , 1.35127281, 1.29832132, 1.23818961, 1.16976336,\n",
    "       1.0914691 , 1.00096258, 0.89446596, 0.76508142, 0.59686235,\n",
    "       0.2       ]\n",
    ")"
   ]
  },
  {
   "cell_type": "code",
   "execution_count": null,
   "metadata": {},
   "outputs": [],
   "source": [
    "zeta_usg = np.array(\n",
    "    [ -8.        , -23.87449386, -30.60325662, -35.77863827,\n",
    "       -40.03850338, -43.65876407, -46.79053437, -49.52758447,\n",
    "       -51.93285291, -54.05091221, -55.91456001, -57.5486084 ,\n",
    "       -58.97220318, -60.20031357, -61.24472552, -62.11472301,\n",
    "       -62.81756499, -63.35882268, -63.74261796, -63.97178855,\n",
    "       -64.04799631, -63.97178855, -63.74261796, -63.35882268,\n",
    "       -62.81756499, -62.11472301, -61.24472552, -60.20031357,\n",
    "       -58.97220318, -57.5486084 , -55.91456001, -54.05091221,\n",
    "       -51.93285291, -49.52758447, -46.79053437, -43.65876407,\n",
    "       -40.03850338, -35.77863827, -30.60325662, -23.87449386,\n",
    "        -8.        ]\n",
    ")"
   ]
  },
  {
   "cell_type": "code",
   "execution_count": null,
   "metadata": {},
   "outputs": [],
   "source": [
    "hds_usg.shape"
   ]
  },
  {
   "cell_type": "markdown",
   "metadata": {},
   "source": [
    "## Create and Run Simple Test Model"
   ]
  },
  {
   "cell_type": "code",
   "execution_count": null,
   "metadata": {},
   "outputs": [],
   "source": [
    "#create simple test model\n",
    "Lx = 2050.0 # meters\n",
    "ncol = 41\n",
    "nlay = 1\n",
    "nrow = 1\n",
    "delr, delc = Lx / ncol, 1.0\n",
    "top = 5.\n",
    "botm = -80.\n",
    "recharge = 1e-3\n",
    "k = 10.\n",
    "h0 = 0.2  \n",
    "h1 = h0\n",
    "icelltype = 1\n",
    "newton_option = None\n",
    "max_outer = 50\n",
    "if newton_option is None:\n",
    "    linear_accel = \"cg\"\n",
    "else:\n",
    "    linear_accel = \"bicgstab\"\n",
    "\n",
    "name = \"usg\"\n",
    "sim = flopy.mf6.MFSimulation(\n",
    "    sim_name=name, \n",
    "    sim_ws=sim_ws, \n",
    "    exe_name=mf6exe,\n",
    "    memory_print_option=\"all\"\n",
    ")\n",
    "tdis = flopy.mf6.ModflowTdis(sim)\n",
    "ims = flopy.mf6.ModflowIms(\n",
    "    sim, \n",
    "    print_option=\"all\",\n",
    "    outer_dvclose=1e-8, \n",
    "    inner_dvclose=1e-9,\n",
    "    linear_acceleration=linear_accel, \n",
    "    outer_maximum=max_outer,\n",
    ")\n",
    "gwf = flopy.mf6.ModflowGwf(sim, modelname=name, save_flows=True, newtonoptions=newton_option)\n",
    "dis = flopy.mf6.ModflowGwfdis(\n",
    "    gwf, \n",
    "    nlay=nlay,\n",
    "    nrow=nrow,\n",
    "    ncol=ncol,\n",
    "    delr=delr,\n",
    "    delc=delc,\n",
    "    top=top,\n",
    "    botm=botm,\n",
    ")\n",
    "ic = flopy.mf6.ModflowGwfic(gwf)\n",
    "npf = flopy.mf6.ModflowGwfnpf(\n",
    "    gwf,\n",
    "    save_specific_discharge=True,\n",
    "    save_saturation=True,\n",
    "    # alternative_cell_averaging=\"AMT-HMK\",\n",
    "    icelltype=icelltype,\n",
    "    k=k,\n",
    ")\n",
    "zeta_file = name + '.zta'\n",
    "# swi = flopy.mf6.ModflowGwfswi(gwf, zeta_filerecord=zeta_file, zetastrt=botm)\n",
    "swi = flopy.mf6.ModflowGwfswi(gwf, zeta_filerecord=zeta_file, zetastrt=-1)\n",
    "chd_spd = [\n",
    "    ((0, 0, 0), h0),\n",
    "    ((0, 0, ncol - 1), h1),\n",
    "]\n",
    "chd = flopy.mf6.ModflowGwfchd(gwf, stress_period_data=chd_spd)\n",
    "rch = flopy.mf6.ModflowGwfrcha(gwf, recharge=recharge)\n",
    "budget_file = name + '.bud'\n",
    "head_file = name + '.hds'\n",
    "oc = flopy.mf6.ModflowGwfoc(\n",
    "        gwf,\n",
    "        budget_filerecord=budget_file,\n",
    "        head_filerecord=head_file,\n",
    "        saverecord=[('HEAD', 'ALL'), ('BUDGET', 'ALL')],\n",
    "        printrecord=[('HEAD', 'ALL'), ('BUDGET', 'ALL')],\n",
    ")\n",
    "sim.write_simulation()\n",
    "sim.run_simulation()"
   ]
  },
  {
   "cell_type": "code",
   "execution_count": null,
   "metadata": {},
   "outputs": [],
   "source": [
    "fpth = sim_ws / f\"{gwf.name}.zta\"\n",
    "zeta_all = flopy.utils.HeadFile(fpth, text=\"zeta\").get_alldata()\n",
    "zeta = zeta_all[-1].flatten()\n",
    "\n",
    "x = gwf.modelgrid.xcellcenters.flatten()\n",
    "head = gwf.output.head().get_data().flatten()\n",
    "bud = gwf.output.budget()\n",
    "#print(head.flatten())\n",
    "#print(zeta.flatten())\n",
    "\n",
    "spdis = bud.get_data(text='DATA-SPDIS')[0]\n",
    "qx, qy, qz = flopy.utils.postprocessing.get_specific_discharge(spdis, gwf)\n",
    "pxs = flopy.plot.PlotCrossSection(gwf, line={\"row\":0})\n",
    "ax = pxs.ax\n",
    "if ncol < 50:\n",
    "    pxs.plot_grid()\n",
    "#pxs.plot_bc(\"ghb\")\n",
    "ax.plot(x, head, \"k-\")\n",
    "ax.plot(x, zeta, \"k--\")\n",
    "# freshwater\n",
    "ax.fill_between(x, head, zeta, color=\"cyan\")\n",
    "# saltwater\n",
    "ax.fill_between(x, zeta, botm, color=\"red\")\n",
    "# pxs.plot_vector(qx, qy, qz, normalize=True, color=\"black\")\n",
    "\n",
    "ax.plot(x, hds_usg, lw=0, mec=\"black\", mfc=\"none\", marker=\"o\")\n",
    "ax.plot(x, zeta_usg, lw=0, mec=\"black\", mfc=\"none\", marker=\"x\");\n"
   ]
  },
  {
   "cell_type": "markdown",
   "metadata": {},
   "source": [
    "## Plot Results"
   ]
  },
  {
   "cell_type": "code",
   "execution_count": null,
   "metadata": {},
   "outputs": [],
   "source": [
    "fpth = sim_ws / f\"{name}.dis.grb\"\n",
    "grb = flopy.mf6.utils.MfGrdFile(fpth)\n",
    "ia = grb.ia\n",
    "ja = grb.ja\n",
    "nodes = grb.nodes\n",
    "flowja = bud.get_data(text=\"FLOW-JA-FACE\")[0].flatten()\n",
    "\n",
    "# print flows bewteen cells\n",
    "# for n in range(nodes):\n",
    "#     for ipos in range(ia[n] + 1, ia[n + 1]):\n",
    "#         m = ja[ipos]\n",
    "#         q = flowja[ipos]\n",
    "#         if m > n:\n",
    "#             print(f\"{n=} {m=} {q=}\")"
   ]
  },
  {
   "cell_type": "code",
   "execution_count": null,
   "metadata": {},
   "outputs": [],
   "source": [
    "bobj = gwf.output.budget()"
   ]
  },
  {
   "cell_type": "code",
   "execution_count": null,
   "metadata": {},
   "outputs": [],
   "source": [
    "bobj.get_unique_record_names()"
   ]
  },
  {
   "cell_type": "code",
   "execution_count": null,
   "metadata": {},
   "outputs": [],
   "source": [
    "bobj.get_data(text=\"DATA-SAT\")"
   ]
  },
  {
   "cell_type": "code",
   "execution_count": null,
   "metadata": {},
   "outputs": [],
   "source": [
    "-head * 40."
   ]
  },
  {
   "cell_type": "code",
   "execution_count": null,
   "metadata": {},
   "outputs": [],
   "source": [
    "zeta"
   ]
  },
  {
   "cell_type": "code",
   "execution_count": null,
   "metadata": {},
   "outputs": [],
   "source": [
    "(-head * 40.) - zeta"
   ]
  },
  {
   "cell_type": "code",
   "execution_count": null,
   "metadata": {},
   "outputs": [],
   "source": [
    "head.max()"
   ]
  }
 ],
 "metadata": {
  "kernelspec": {
   "display_name": "Python 3 (ipykernel)",
   "language": "python",
   "name": "python3"
  },
  "language_info": {
   "codemirror_mode": {
    "name": "ipython",
    "version": 3
   },
   "file_extension": ".py",
   "mimetype": "text/x-python",
   "name": "python",
   "nbconvert_exporter": "python",
   "pygments_lexer": "ipython3",
   "version": "3.12.1"
  }
 },
 "nbformat": 4,
 "nbformat_minor": 4
}
