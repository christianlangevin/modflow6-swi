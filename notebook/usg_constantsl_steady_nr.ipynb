{
 "cells": [
  {
   "cell_type": "code",
   "execution_count": 1,
   "metadata": {},
   "outputs": [],
   "source": [
    "import pathlib as pl\n",
    "import numpy as np\n",
    "import modflowapi\n",
    "import swiapi\n",
    "import flopy\n",
    "\n",
    "# path to mf6 shared library\n",
    "# executables based on mf6 feat-swi branch at: \n",
    "#   https://github.com/langevin-usgs/modflow6/tree/feat-swi\n",
    "mf6exe = \"/Users/jdhughes/Documents/Work/SWI6/modflow6/bin/mf6\"\n",
    "libmf6 = \"/Users/jdhughes/Documents/Work/SWI6/modflow6/bin/libmf6.dylib\"\n"
   ]
  },
  {
   "cell_type": "markdown",
   "metadata": {},
   "source": [
    "## MODFLOW-USG results for problem"
   ]
  },
  {
   "cell_type": "code",
   "execution_count": 2,
   "metadata": {},
   "outputs": [],
   "source": [
    "hds_usg = np.array(\n",
    "      [2.42414664e-16, 3.44822330e-01, 5.49943267e-01, 7.01957249e-01,\n",
    "       8.24049181e-01, 9.26102851e-01, 1.01335249e+00, 1.08894584e+00,\n",
    "       1.15494018e+00, 1.21276031e+00, 1.26343516e+00, 1.30773084e+00,\n",
    "       1.34623039e+00, 1.37938411e+00, 1.40754251e+00, 1.43097863e+00,\n",
    "       1.44990335e+00, 1.46447612e+00, 1.47481228e+00, 1.48098812e+00,\n",
    "       1.48304388e+00, 1.48098812e+00, 1.47481228e+00, 1.46447612e+00,\n",
    "       1.44990335e+00, 1.43097863e+00, 1.40754251e+00, 1.37938411e+00,\n",
    "       1.34623039e+00, 1.30773084e+00, 1.26343516e+00, 1.21276031e+00,\n",
    "       1.15494018e+00, 1.08894584e+00, 1.01335249e+00, 9.26102851e-01,\n",
    "       8.24049181e-01, 7.01957249e-01, 5.49943267e-01, 3.44822330e-01,\n",
    "       0.00000000e+00]\n",
    "                  )"
   ]
  },
  {
   "cell_type": "code",
   "execution_count": 3,
   "metadata": {},
   "outputs": [],
   "source": [
    "zeta_usg = np.array(\n",
    "    [-9.69658656e-15, -1.37928932e+01, -2.19977307e+01, -2.80782900e+01,\n",
    "       -3.29619672e+01, -3.70441140e+01, -4.05340994e+01, -4.35578338e+01,\n",
    "       -4.61976073e+01, -4.85104122e+01, -5.05374063e+01, -5.23092336e+01,\n",
    "       -5.38492157e+01, -5.51753643e+01, -5.63017003e+01, -5.72391451e+01,\n",
    "       -5.79961342e+01, -5.85790447e+01, -5.89924913e+01, -5.92395247e+01,\n",
    "       -5.93217551e+01, -5.92395247e+01, -5.89924913e+01, -5.85790447e+01,\n",
    "       -5.79961342e+01, -5.72391451e+01, -5.63017003e+01, -5.51753643e+01,\n",
    "       -5.38492157e+01, -5.23092336e+01, -5.05374063e+01, -4.85104122e+01,\n",
    "       -4.61976073e+01, -4.35578338e+01, -4.05340994e+01, -3.70441140e+01,\n",
    "       -3.29619672e+01, -2.80782900e+01, -2.19977307e+01, -1.37928932e+01,\n",
    "        0.00000000e+00]\n",
    ")"
   ]
  },
  {
   "cell_type": "code",
   "execution_count": 4,
   "metadata": {},
   "outputs": [
    {
     "data": {
      "text/plain": [
       "(41,)"
      ]
     },
     "execution_count": 4,
     "metadata": {},
     "output_type": "execute_result"
    }
   ],
   "source": [
    "hds_usg.shape"
   ]
  },
  {
   "cell_type": "markdown",
   "metadata": {},
   "source": [
    "## Create and Run Simple Test Model"
   ]
  },
  {
   "cell_type": "code",
   "execution_count": 5,
   "metadata": {},
   "outputs": [
    {
     "name": "stdout",
     "output_type": "stream",
     "text": [
      "writing simulation...\n",
      "  writing simulation name file...\n",
      "  writing simulation tdis package...\n",
      "  writing solution package ims_-1...\n",
      "  writing model usg_nr...\n",
      "    writing model name file...\n",
      "    writing package dis...\n",
      "    writing package ic...\n",
      "    writing package npf...\n",
      "    writing package swi...\n",
      "    writing package chd_0...\n",
      "INFORMATION: maxbound in ('gwf6', 'chd', 'dimensions') changed to 2 based on size of stress_period_data\n",
      "    writing package rcha_0...\n",
      "    writing package oc...\n"
     ]
    }
   ],
   "source": [
    "#create simple test model\n",
    "Lx = 2050.0 # meters\n",
    "ncol = 41\n",
    "nlay = 1\n",
    "nrow = 1\n",
    "delr, delc = Lx / ncol, 1.0\n",
    "top = 5.\n",
    "botm = -80.\n",
    "recharge = 1e-3\n",
    "k = 10.\n",
    "h0 = 0.0  \n",
    "h1 = h0\n",
    "icelltype = 1\n",
    "newton_option = \"newton\"\n",
    "if newton_option is None:\n",
    "    linear_accel = \"cg\"\n",
    "    max_outer = 50\n",
    "else:\n",
    "    linear_accel = \"bicgstab\"\n",
    "    max_outer = 500\n",
    "\n",
    "name = \"usg_nr\"\n",
    "ws = pl.Path(f\"temp/{name}\")\n",
    "sim = flopy.mf6.MFSimulation(\n",
    "    sim_name=name, \n",
    "    sim_ws=ws, \n",
    "    exe_name=mf6exe,\n",
    "    memory_print_option=\"all\"\n",
    ")\n",
    "tdis = flopy.mf6.ModflowTdis(sim)\n",
    "ims = flopy.mf6.ModflowIms(sim, outer_dvclose=1e-8, inner_dvclose=1e-9, linear_acceleration=linear_accel, outer_maximum=max_outer)\n",
    "gwf = flopy.mf6.ModflowGwf(sim, modelname=name, save_flows=True, newtonoptions=newton_option)\n",
    "dis = flopy.mf6.ModflowGwfdis(\n",
    "    gwf, \n",
    "    nlay=nlay,\n",
    "    nrow=nrow,\n",
    "    ncol=ncol,\n",
    "    delr=delr,\n",
    "    delc=delc,\n",
    "    top=top,\n",
    "    botm=botm,\n",
    ")\n",
    "ic = flopy.mf6.ModflowGwfic(gwf)\n",
    "npf = flopy.mf6.ModflowGwfnpf(\n",
    "    gwf,\n",
    "    save_specific_discharge=True,\n",
    "    save_saturation=True,\n",
    "    # alternative_cell_averaging=\"AMT-HMK\",\n",
    "    icelltype=icelltype,\n",
    "    k=k,\n",
    ")\n",
    "# swi = flopy.mf6.ModflowGwfswi(gwf, zeta=zeta_usg.reshape((nlay, nrow, ncol)))\n",
    "swi = flopy.mf6.ModflowGwfswi(gwf, zeta=botm)\n",
    "chd_spd = [\n",
    "    ((0, 0, 0), h0),\n",
    "    ((0, 0, ncol - 1), h1),\n",
    "]\n",
    "chd = flopy.mf6.ModflowGwfchd(gwf, stress_period_data=chd_spd)\n",
    "rch = flopy.mf6.ModflowGwfrcha(gwf, recharge=recharge)\n",
    "budget_file = name + '.bud'\n",
    "head_file = name + '.hds'\n",
    "oc = flopy.mf6.ModflowGwfoc(\n",
    "        gwf,\n",
    "        budget_filerecord=budget_file,\n",
    "        head_filerecord=head_file,\n",
    "        saverecord=[('HEAD', 'ALL'), ('BUDGET', 'ALL')],\n",
    "        printrecord=[('HEAD', 'ALL'), ('BUDGET', 'ALL')],\n",
    ")\n",
    "sim.write_simulation()\n",
    "#sim.run_simulation()"
   ]
  },
  {
   "cell_type": "markdown",
   "metadata": {},
   "source": [
    "## Run Example Using API\n",
    "\n",
    "### Run Model by Iteration"
   ]
  },
  {
   "cell_type": "code",
   "execution_count": 6,
   "metadata": {},
   "outputs": [
    {
     "name": "stdout",
     "output_type": "stream",
     "text": [
      "Initializing mf6...\n",
      "Accessing pointer using tag: TDIS/DELT\n",
      "Accessing pointer using tag: TDIS/NPER\n",
      "Accessing pointer using tag: USG_NR/INSTO\n",
      "Accessing pointer using tag: USG_NR/ISS\n",
      "Accessing pointer using tag: USG_NR/X\n",
      "Accessing pointer using tag: USG_NR/XOLD\n",
      "Accessing pointer using tag: USG_NR/RHS\n",
      "Accessing pointer using tag: SLN_1/IA\n",
      "Accessing pointer using tag: SLN_1/JA\n",
      "Accessing pointer using tag: SLN_1/AMAT\n",
      "Accessing pointer using tag: USG_NR/DIS/AREA\n",
      "Accessing pointer using tag: USG_NR/DIS/TOP\n",
      "Accessing pointer using tag: USG_NR/DIS/BOT\n",
      "Accessing pointer using tag: USG_NR/NPF/SAT\n",
      "Accessing pointer using tag: USG_NR/NPF/CONDSAT\n",
      "Accessing pointer using tag: USG_NR/NPF/DERV_MULT\n",
      "Accessing pointer using tag: USG_NR/SWI/ZETA\n",
      "Accessing pointer using tag: USG_NR/SWI/HCOF\n",
      "Accessing pointer using tag: USG_NR/SWI/RHS\n",
      "Simulation end time = 1.0...\n",
      "\n",
      "  Solving for time 0.0\n",
      "  Prepare time step with dt=[0.]...\n",
      "  Prepare solve...\n",
      "    Solve...(kiter=0)\n",
      "    Solve...(kiter=1)\n",
      "    Solve...(kiter=2)\n",
      "    Solve...(kiter=3)\n",
      "    Solve...(kiter=4)\n",
      "    Solve...(kiter=5)\n",
      "  Finalize solve...\n",
      "  Finalize time step...\n",
      "Finalizing mf6...\n"
     ]
    },
    {
     "name": "stderr",
     "output_type": "stream",
     "text": [
      "/Users/jdhughes/miniforge3/envs/develop/lib/python3.11/site-packages/xmipy/xmiwrapper.py:624: DeprecationWarning: Conversion of an array with ndim > 0 to a scalar is deprecated, and will error in future. Ensure you extract a single element from your array before performing this operation. (Deprecated NumPy 1.25.)\n",
      "  c_dt = c_double(dt)\n"
     ]
    }
   ],
   "source": [
    "mf6_swi = swiapi.SwiAPI(libmf6, ws, name)\n",
    "mf6_swi.run(maxiter=max_outer)\n"
   ]
  },
  {
   "cell_type": "code",
   "execution_count": 7,
   "metadata": {},
   "outputs": [
    {
     "data": {
      "image/png": "[encoded data removed]",
      "text/plain": [
       "<Figure size 640x480 with 1 Axes>"
      ]
     },
     "metadata": {},
     "output_type": "display_data"
    }
   ],
   "source": [
    "zeta = mf6_swi.zeta_last\n",
    "x = gwf.modelgrid.xcellcenters.flatten()\n",
    "head = gwf.output.head().get_data().flatten()\n",
    "bud = gwf.output.budget()\n",
    "#print(head.flatten())\n",
    "#print(zeta.flatten())\n",
    "\n",
    "spdis = bud.get_data(text='DATA-SPDIS')[0]\n",
    "qx, qy, qz = flopy.utils.postprocessing.get_specific_discharge(spdis, gwf)\n",
    "pxs = flopy.plot.PlotCrossSection(gwf, line={\"row\":0})\n",
    "ax = pxs.ax\n",
    "if ncol < 50:\n",
    "    pxs.plot_grid()\n",
    "#pxs.plot_bc(\"ghb\")\n",
    "ax.plot(x, head, \"k-\")\n",
    "ax.plot(x, zeta, \"k--\")\n",
    "# freshwater\n",
    "ax.fill_between(x, head, zeta, color=\"cyan\")\n",
    "# saltwater\n",
    "ax.fill_between(x, zeta, botm, color=\"red\")\n",
    "# pxs.plot_vector(qx, qy, qz, normalize=True, color=\"black\")\n",
    "\n",
    "ax.plot(x, hds_usg, lw=0, mec=\"black\", mfc=\"none\", marker=\"o\")\n",
    "ax.plot(x, zeta_usg, lw=0, mec=\"black\", mfc=\"none\", marker=\"x\");\n"
   ]
  },
  {
   "cell_type": "code",
   "execution_count": 8,
   "metadata": {},
   "outputs": [],
   "source": [
    "fpth = pl.Path(ws) / f\"{name}.dis.grb\"\n",
    "grb = flopy.mf6.utils.MfGrdFile(fpth)\n",
    "ia = grb.ia\n",
    "ja = grb.ja\n",
    "nodes = grb.nodes\n",
    "flowja = bud.get_data(text=\"FLOW-JA-FACE\")[0].flatten()\n",
    "\n",
    "# print flows bewteen cells\n",
    "# for n in range(nodes):\n",
    "#     for ipos in range(ia[n] + 1, ia[n + 1]):\n",
    "#         m = ja[ipos]\n",
    "#         q = flowja[ipos]\n",
    "#         if m > n:\n",
    "#             print(f\"{n=} {m=} {q=}\")"
   ]
  },
  {
   "cell_type": "code",
   "execution_count": 9,
   "metadata": {},
   "outputs": [],
   "source": [
    "bobj = gwf.output.budget()"
   ]
  },
  {
   "cell_type": "code",
   "execution_count": 10,
   "metadata": {},
   "outputs": [
    {
     "data": {
      "text/plain": [
       "[b'    FLOW-JA-FACE',\n",
       " b'      DATA-SPDIS',\n",
       " b'        DATA-SAT',\n",
       " b'            RCHA',\n",
       " b'             CHD',\n",
       " b'         STORAGE']"
      ]
     },
     "execution_count": 10,
     "metadata": {},
     "output_type": "execute_result"
    }
   ],
   "source": [
    "bobj.get_unique_record_names()"
   ]
  },
  {
   "cell_type": "code",
   "execution_count": 11,
   "metadata": {},
   "outputs": [
    {
     "data": {
      "text/plain": [
       "[rec.array([( 1,  1, 0., 0.        ), ( 2,  2, 0., 0.1663259 ),\n",
       "            ( 3,  3, 0., 0.2652667 ), ( 4,  4, 0., 0.33859116),\n",
       "            ( 5,  5, 0., 0.39748261), ( 6,  6, 0., 0.44670854),\n",
       "            ( 7,  7, 0., 0.48879369), ( 8,  8, 0., 0.52525639),\n",
       "            ( 9,  9, 0., 0.55708898), (10, 10, 0., 0.5849787 ),\n",
       "            (11, 11, 0., 0.60942188), (12, 12, 0., 0.63078805),\n",
       "            (13, 13, 0., 0.64935843), (14, 14, 0., 0.66535023),\n",
       "            (15, 15, 0., 0.67893253), (16, 16, 0., 0.69023702),\n",
       "            (17, 17, 0., 0.69936542), (18, 18, 0., 0.70639464),\n",
       "            (19, 19, 0., 0.71138032), (20, 20, 0., 0.71435926),\n",
       "            (21, 21, 0., 0.71535086), (22, 22, 0., 0.71435926),\n",
       "            (23, 23, 0., 0.71138032), (24, 24, 0., 0.70639464),\n",
       "            (25, 25, 0., 0.69936542), (26, 26, 0., 0.69023702),\n",
       "            (27, 27, 0., 0.67893253), (28, 28, 0., 0.66535023),\n",
       "            (29, 29, 0., 0.64935843), (30, 30, 0., 0.63078805),\n",
       "            (31, 31, 0., 0.60942188), (32, 32, 0., 0.5849787 ),\n",
       "            (33, 33, 0., 0.55708898), (34, 34, 0., 0.52525639),\n",
       "            (35, 35, 0., 0.48879369), (36, 36, 0., 0.44670854),\n",
       "            (37, 37, 0., 0.39748261), (38, 38, 0., 0.33859116),\n",
       "            (39, 39, 0., 0.2652667 ), (40, 40, 0., 0.1663259 ),\n",
       "            (41, 41, 0., 0.        )],\n",
       "           dtype=[('node', '<i4'), ('node2', '<i4'), ('q', '<f8'), ('sat', '<f8')])]"
      ]
     },
     "execution_count": 11,
     "metadata": {},
     "output_type": "execute_result"
    }
   ],
   "source": [
    "bobj.get_data(text=\"DATA-SAT\")"
   ]
  },
  {
   "cell_type": "code",
   "execution_count": 12,
   "metadata": {},
   "outputs": [
    {
     "data": {
      "text/plain": [
       "array([ -0.        , -13.79290702, -21.99774603, -28.07830498,\n",
       "       -32.9619814 , -37.04412725, -40.53411166, -43.55784505,\n",
       "       -46.19761769, -48.51042185, -50.53741523, -52.30924186,\n",
       "       -53.8492234 , -55.17537149, -56.3017071 , -57.2391515 ,\n",
       "       -57.99614026, -58.57905055, -58.99249697, -59.23953036,\n",
       "       -59.32176068, -59.23953036, -58.99249697, -58.57905055,\n",
       "       -57.99614026, -57.2391515 , -56.3017071 , -55.17537149,\n",
       "       -53.8492234 , -52.30924186, -50.53741523, -48.51042185,\n",
       "       -46.19761769, -43.55784505, -40.53411166, -37.04412725,\n",
       "       -32.9619814 , -28.07830498, -21.99774603, -13.79290702,\n",
       "        -0.        ])"
      ]
     },
     "execution_count": 12,
     "metadata": {},
     "output_type": "execute_result"
    }
   ],
   "source": [
    "-head * 40."
   ]
  },
  {
   "cell_type": "code",
   "execution_count": 13,
   "metadata": {},
   "outputs": [
    {
     "data": {
      "text/plain": [
       "array([  0.        , -13.79290702, -21.99774603, -28.07830498,\n",
       "       -32.9619814 , -37.04412725, -40.53411166, -43.55784505,\n",
       "       -46.19761769, -48.51042185, -50.53741523, -52.30924186,\n",
       "       -53.8492234 , -55.17537149, -56.3017071 , -57.2391515 ,\n",
       "       -57.99614026, -58.57905055, -58.99249697, -59.23953036,\n",
       "       -59.32176068, -59.23953036, -58.99249697, -58.57905055,\n",
       "       -57.99614026, -57.2391515 , -56.3017071 , -55.17537149,\n",
       "       -53.8492234 , -52.30924186, -50.53741523, -48.51042185,\n",
       "       -46.19761769, -43.55784505, -40.53411166, -37.04412725,\n",
       "       -32.9619814 , -28.07830498, -21.99774603, -13.79290702,\n",
       "         0.        ])"
      ]
     },
     "execution_count": 13,
     "metadata": {},
     "output_type": "execute_result"
    }
   ],
   "source": [
    "zeta"
   ]
  },
  {
   "cell_type": "code",
   "execution_count": 14,
   "metadata": {},
   "outputs": [
    {
     "data": {
      "text/plain": [
       "array([-0.00000000e+00,  1.22177823e-11,  6.12132567e-12,  4.56878979e-12,\n",
       "        3.82271992e-12,  3.36086714e-12,  3.05533376e-12,  2.82796009e-12,\n",
       "        2.66453526e-12,  2.52953214e-12,  2.42295073e-12,  2.33768560e-12,\n",
       "        2.27373675e-12,  2.21689334e-12,  2.17426077e-12,  2.13162821e-12,\n",
       "        2.10320650e-12,  2.07478479e-12,  2.07478479e-12,  2.06057393e-12,\n",
       "        2.06057393e-12,  2.06057393e-12,  2.07478479e-12,  2.08189022e-12,\n",
       "        2.11031193e-12,  2.13162821e-12,  2.16715534e-12,  2.21689334e-12,\n",
       "        2.27373675e-12,  2.33768560e-12,  2.43005616e-12,  2.52953214e-12,\n",
       "        2.66453526e-12,  2.83506552e-12,  3.05533376e-12,  3.36797257e-12,\n",
       "        3.81561449e-12,  4.57234250e-12,  6.12132567e-12,  1.22160060e-11,\n",
       "       -0.00000000e+00])"
      ]
     },
     "execution_count": 14,
     "metadata": {},
     "output_type": "execute_result"
    }
   ],
   "source": [
    "(-head * 40.) - zeta"
   ]
  },
  {
   "cell_type": "code",
   "execution_count": 15,
   "metadata": {},
   "outputs": [
    {
     "data": {
      "text/plain": [
       "1.4830440170020367"
      ]
     },
     "execution_count": 15,
     "metadata": {},
     "output_type": "execute_result"
    }
   ],
   "source": [
    "head.max()"
   ]
  },
  {
   "cell_type": "code",
   "execution_count": null,
   "metadata": {},
   "outputs": [],
   "source": []
  }
 ],
 "metadata": {
  "kernelspec": {
   "display_name": "Python 3 (ipykernel)",
   "language": "python",
   "name": "python3"
  },
  "language_info": {
   "codemirror_mode": {
    "name": "ipython",
    "version": 3
   },
   "file_extension": ".py",
   "mimetype": "text/x-python",
   "name": "python",
   "nbconvert_exporter": "python",
   "pygments_lexer": "ipython3",
   "version": "3.11.7"
  }
 },
 "nbformat": 4,
 "nbformat_minor": 4
}
