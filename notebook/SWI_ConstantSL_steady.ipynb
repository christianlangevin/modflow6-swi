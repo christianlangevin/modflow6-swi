{
 "cells": [
  {
   "cell_type": "code",
   "execution_count": 1,
   "id": "b963f279-c375-400d-8f85-a1a6a5f307af",
   "metadata": {},
   "outputs": [],
   "source": [
    "import pathlib as pl\n",
    "import numpy as np\n",
    "import matplotlib.pyplot as plt\n",
    "import flopy\n",
    "import flopy.plot.styles as styles\n",
    "import modflowapi\n",
    "import swiapi"
   ]
  },
  {
   "cell_type": "code",
   "execution_count": 2,
   "id": "2a76a2a9-b9c5-4c7b-b413-353bb5523179",
   "metadata": {},
   "outputs": [],
   "source": [
    "ws = pl.Path(\"./constant_steady\")\n",
    "name = \"mf6\""
   ]
  },
  {
   "cell_type": "code",
   "execution_count": 3,
   "id": "3099cdd4-0749-4ffa-a527-9cebc36ef7c4",
   "metadata": {},
   "outputs": [],
   "source": [
    "mf6exe = \"/Users/jdhughes/Documents/Work/SWI6/modflow6/bin/mf6\"\n",
    "libmf6 = \"/Users/jdhughes/Documents/Work/SWI6/modflow6/bin/libmf6.dylib\""
   ]
  },
  {
   "cell_type": "code",
   "execution_count": 4,
   "id": "e466930c-9bfe-4a62-837d-040cc2efeb23",
   "metadata": {},
   "outputs": [
    {
     "data": {
      "text/plain": [
       "(1, 1, 41)"
      ]
     },
     "execution_count": 4,
     "metadata": {},
     "output_type": "execute_result"
    }
   ],
   "source": [
    "delr = delc = 50.\n",
    "xlen = 2050.\n",
    "ylen = delc\n",
    "nlay, nrow, ncol = 1, int(ylen / delc), int(xlen / delr)\n",
    "nlay, nrow, ncol"
   ]
  },
  {
   "cell_type": "code",
   "execution_count": 5,
   "id": "449f63e3-4538-43e6-b321-29c6a36863ca",
   "metadata": {},
   "outputs": [],
   "source": [
    "shape3d = (nlay, nrow, ncol)\n",
    "shape2d = (nrow, ncol)"
   ]
  },
  {
   "cell_type": "code",
   "execution_count": 6,
   "id": "2079d351-44e3-4b8b-ac6a-643a6e070102",
   "metadata": {},
   "outputs": [],
   "source": [
    "top = 10.\n",
    "botm = -100."
   ]
  },
  {
   "cell_type": "code",
   "execution_count": 7,
   "id": "ab1a38ce-e4ac-42d2-9c0c-d96f69af5fd6",
   "metadata": {},
   "outputs": [],
   "source": [
    "# newton_options = \"newton\"\n",
    "newton_options = None"
   ]
  },
  {
   "cell_type": "code",
   "execution_count": 8,
   "id": "94a5e3e5-7699-420a-bd99-f98ac2a357e6",
   "metadata": {},
   "outputs": [],
   "source": [
    "if newton_options is None:\n",
    "    linear_acceleration=\"cg\"\n",
    "else:\n",
    "    linear_acceleration=\"bicgstab\""
   ]
  },
  {
   "cell_type": "code",
   "execution_count": 9,
   "id": "ab1377d5-208c-457e-be09-bbc6f25b3064",
   "metadata": {},
   "outputs": [],
   "source": [
    "sim = flopy.mf6.MFSimulation(sim_name=name, sim_ws=ws, exe_name=mf6exe, memory_print_option=\"all\")"
   ]
  },
  {
   "cell_type": "code",
   "execution_count": 10,
   "id": "50ddd200-3e16-46c5-8621-d894d8e2a592",
   "metadata": {},
   "outputs": [],
   "source": [
    "tdis = flopy.mf6.ModflowTdis(sim, time_units=\"days\")"
   ]
  },
  {
   "cell_type": "code",
   "execution_count": 11,
   "id": "d5a6c844-423e-4673-a765-277396fa7e34",
   "metadata": {},
   "outputs": [],
   "source": [
    "ims = flopy.mf6.ModflowIms(sim, outer_dvclose=1e-5, inner_dvclose=1e-6, linear_acceleration=linear_acceleration, complexity=\"simple\")"
   ]
  },
  {
   "cell_type": "code",
   "execution_count": 12,
   "id": "786aed0b-a4f7-4afc-8555-5cf5e241a6c3",
   "metadata": {},
   "outputs": [],
   "source": [
    "gwf = flopy.mf6.ModflowGwf(sim, modelname=name, newtonoptions=newton_options)"
   ]
  },
  {
   "cell_type": "code",
   "execution_count": 13,
   "id": "b0c22528-6e15-4552-8dbf-f8b74fad68b6",
   "metadata": {},
   "outputs": [],
   "source": [
    "nghb = 1"
   ]
  },
  {
   "cell_type": "code",
   "execution_count": 14,
   "id": "ea4c0f16-8742-4819-a76f-bb3fa7720c9f",
   "metadata": {},
   "outputs": [
    {
     "data": {
      "text/plain": [
       "array([[ 0., 10., 10., 10., 10., 10., 10., 10., 10., 10., 10., 10., 10.,\n",
       "        10., 10., 10., 10., 10., 10., 10., 10., 10., 10., 10., 10., 10.,\n",
       "        10., 10., 10., 10., 10., 10., 10., 10., 10., 10., 10., 10., 10.,\n",
       "        10., 10.]])"
      ]
     },
     "execution_count": 14,
     "metadata": {},
     "output_type": "execute_result"
    }
   ],
   "source": [
    "top = np.full(shape2d, top, dtype=float)\n",
    "top[0, :nghb] = 0\n",
    "top"
   ]
  },
  {
   "cell_type": "code",
   "execution_count": 15,
   "id": "7e3aa4db-5e2a-49f1-bdc5-96ef9d43a618",
   "metadata": {},
   "outputs": [],
   "source": [
    "dis = flopy.mf6.ModflowGwfdis(gwf, nlay=nlay, nrow=nrow, ncol=ncol, delr=delr, delc=delc, top=top, botm=botm)"
   ]
  },
  {
   "cell_type": "code",
   "execution_count": 16,
   "id": "4bc7696c-e67c-4670-9629-6f937bdd7224",
   "metadata": {},
   "outputs": [],
   "source": [
    "ic = flopy.mf6.ModflowGwfic(gwf, strt=top)"
   ]
  },
  {
   "cell_type": "code",
   "execution_count": 17,
   "id": "cc5c53ff-b290-4973-ac18-a7f88e3e1fe4",
   "metadata": {},
   "outputs": [],
   "source": [
    "npf = flopy.mf6.ModflowGwfnpf(gwf, k=10, icelltype=1, alternative_cell_averaging=\"AMT-LMK\",)"
   ]
  },
  {
   "cell_type": "code",
   "execution_count": 18,
   "id": "d5c519b1-dbe4-4a4b-94db-d039a90d887e",
   "metadata": {},
   "outputs": [],
   "source": [
    "swi = flopy.mf6.ModflowGwfswi(gwf, zeta=botm)"
   ]
  },
  {
   "cell_type": "code",
   "execution_count": 19,
   "id": "1d637cb6-bc07-4ae3-812a-5cb959e7e96d",
   "metadata": {},
   "outputs": [
    {
     "data": {
      "text/plain": [
       "array([[0.    , 0.0002, 0.0002, 0.0002, 0.0002, 0.0002, 0.0002, 0.0002,\n",
       "        0.0002, 0.0002, 0.0002, 0.0002, 0.0002, 0.0002, 0.0002, 0.0002,\n",
       "        0.0002, 0.0002, 0.0002, 0.0002, 0.0002, 0.0002, 0.0002, 0.0002,\n",
       "        0.0002, 0.0002, 0.0002, 0.0002, 0.0002, 0.0002, 0.0002, 0.0002,\n",
       "        0.0002, 0.0002, 0.0002, 0.0002, 0.0002, 0.0002, 0.0002, 0.0002,\n",
       "        0.0002]])"
      ]
     },
     "execution_count": 19,
     "metadata": {},
     "output_type": "execute_result"
    }
   ],
   "source": [
    "rch_mult = 0.5\n",
    "rch_rate = 4e-4 * rch_mult\n",
    "rch_rate = np.full(shape2d, rch_rate, dtype=float)\n",
    "rch_rate[0, :nghb] = 0.\n",
    "rch_rate"
   ]
  },
  {
   "cell_type": "code",
   "execution_count": 20,
   "id": "5afac5e1-1e50-41c9-9a45-0ddafb638c6d",
   "metadata": {},
   "outputs": [],
   "source": [
    "rch = flopy.mf6.ModflowGwfrcha(gwf, recharge=rch_rate)"
   ]
  },
  {
   "cell_type": "code",
   "execution_count": 21,
   "id": "e7879f2d-b79f-495c-8ce1-a2328c23b23d",
   "metadata": {},
   "outputs": [
    {
     "data": {
      "text/plain": [
       "[(0, 0, 0, 0.0, 62.5)]"
      ]
     },
     "execution_count": 21,
     "metadata": {},
     "output_type": "execute_result"
    }
   ],
   "source": [
    "ghb_spd = [(0, 0, i, 0.0, 62.5) for i in range(nghb)]\n",
    "ghb_spd"
   ]
  },
  {
   "cell_type": "code",
   "execution_count": 22,
   "id": "f00648d8-ba08-491c-bed3-79383015a0bb",
   "metadata": {},
   "outputs": [],
   "source": [
    "ghb = flopy.mf6.ModflowGwfghb(gwf, stress_period_data=ghb_spd)"
   ]
  },
  {
   "cell_type": "code",
   "execution_count": 23,
   "id": "c53da9e6-f80a-401e-8914-7bb90b1bf5b3",
   "metadata": {},
   "outputs": [],
   "source": [
    "oc = flopy.mf6.ModflowGwfoc(gwf, head_filerecord=f\"{name}.hds\", saverecord=[(\"head\", \"all\")])"
   ]
  },
  {
   "cell_type": "code",
   "execution_count": 24,
   "id": "32c88589-a4ad-4ea1-bdf3-b465db63b70d",
   "metadata": {},
   "outputs": [
    {
     "name": "stdout",
     "output_type": "stream",
     "text": [
      "writing simulation...\n",
      "  writing simulation name file...\n",
      "  writing simulation tdis package...\n",
      "  writing solution package ims_-1...\n",
      "  writing model mf6...\n",
      "    writing model name file...\n",
      "    writing package dis...\n",
      "    writing package ic...\n",
      "    writing package npf...\n",
      "    writing package swi...\n",
      "    writing package rcha_0...\n",
      "    writing package ghb_0...\n",
      "INFORMATION: maxbound in ('gwf6', 'ghb', 'dimensions') changed to 1 based on size of stress_period_data\n",
      "    writing package oc...\n"
     ]
    }
   ],
   "source": [
    "sim.write_simulation()"
   ]
  },
  {
   "cell_type": "code",
   "execution_count": 25,
   "id": "40214c0f-a03e-4e48-907a-f89a0fe09745",
   "metadata": {},
   "outputs": [],
   "source": [
    "# sim.run_simulation()"
   ]
  },
  {
   "cell_type": "markdown",
   "id": "d0ae9e3c-8729-4299-8e2e-a95fa04207bd",
   "metadata": {},
   "source": [
    "### API calls"
   ]
  },
  {
   "cell_type": "code",
   "execution_count": 26,
   "id": "b1cd325c-a514-4f20-8d44-a5f41b14e006",
   "metadata": {},
   "outputs": [
    {
     "name": "stdout",
     "output_type": "stream",
     "text": [
      "Initializing mf6...\n",
      "Accessing pointer using tag: MF6/X\n",
      "Accessing pointer using tag: MF6/RHS\n",
      "Accessing pointer using tag: SLN_1/IA\n",
      "Accessing pointer using tag: SLN_1/JA\n",
      "Accessing pointer using tag: SLN_1/AMAT\n",
      "Accessing pointer using tag: MF6/NPF/SAT\n",
      "Accessing pointer using tag: MF6/NPF/CONDSAT\n",
      "Accessing pointer using tag: MF6/SWI/ZETA\n",
      "  Get and prepare time step...\n",
      "  Prepare solve...\n",
      "\n",
      "    Solve...(kiter=0)\n",
      "\n",
      "    Solve...(kiter=1)\n",
      "\n",
      "    Solve...(kiter=2)\n",
      "\n",
      "    Solve...(kiter=3)\n",
      "\n",
      "    Solve...(kiter=4)\n",
      "\n",
      "    Solve...(kiter=5)\n",
      "\n",
      "    Solve...(kiter=6)\n",
      "\n",
      "    Solve...(kiter=7)\n",
      "\n",
      "    Solve...(kiter=8)\n",
      "\n",
      "    Solve...(kiter=9)\n",
      "\n",
      "    Solve...(kiter=10)\n",
      "\n",
      "    Solve...(kiter=11)\n",
      "  Finalize solve...\n",
      "  Finalize time step...\n",
      "Finalizing mf6...\n"
     ]
    }
   ],
   "source": [
    "mf6 =  modflowapi.ModflowApi(libmf6, working_directory=ws)\n",
    "swiapi = swiapi.SwiAPi(mf6, name)\n",
    "print(\"Initializing mf6...\")\n",
    "mf6.initialize()\n",
    "\n",
    "swiapi.create_pointers()\n",
    "# swiapi.print_pointers()\n",
    "\n",
    "current_time = 0.\n",
    "end_time = mf6.get_end_time()\n",
    "\n",
    "# update zeta using the initial head\n",
    "swiapi.update_zeta()\n",
    "\n",
    "while current_time < end_time:\n",
    "    \n",
    "    print(\"  Get and prepare time step...\")\n",
    "    dt = mf6.get_time_step()\n",
    "    mf6.prepare_time_step(dt)\n",
    "    \n",
    "    kiter = 0\n",
    "    print(\"  Prepare solve...\")\n",
    "    mf6.prepare_solve(1)\n",
    "    while kiter < 30:\n",
    "\n",
    "        print(f\"\\n    Solve...(kiter={kiter})\")\n",
    "        has_converged = mf6.solve(1)\n",
    "\n",
    "        # update zeta using the initial head\n",
    "        swiapi.update_zeta()\n",
    "\n",
    "        if has_converged:\n",
    "            break\n",
    "        kiter += 1\n",
    "\n",
    "        # swiapi.print_pointers()\n",
    "\n",
    "    print(\"  Finalize solve...\")\n",
    "    mf6.finalize_solve(1)\n",
    "    \n",
    "    print(\"  Finalize time step...\")\n",
    "    mf6.finalize_time_step()\n",
    "    current_time = mf6.get_current_time()\n",
    "\n",
    "print (\"Finalizing mf6...\")\n",
    "mf6.finalize()"
   ]
  },
  {
   "cell_type": "code",
   "execution_count": null,
   "id": "1ec171c9-0a96-4172-ad5e-a54541d7db56",
   "metadata": {},
   "outputs": [],
   "source": []
  },
  {
   "cell_type": "markdown",
   "id": "5ff1b04f-f92c-4730-8b66-3a85025151e6",
   "metadata": {},
   "source": [
    "### Plot the results"
   ]
  },
  {
   "cell_type": "code",
   "execution_count": 27,
   "id": "c63f79c0-c050-4de4-9e19-0cc8c526e136",
   "metadata": {},
   "outputs": [],
   "source": [
    "hds = gwf.output.head().get_data()"
   ]
  },
  {
   "cell_type": "code",
   "execution_count": 28,
   "id": "49574668-e8b6-4acb-9235-39e6d3814c12",
   "metadata": {},
   "outputs": [
    {
     "data": {
      "text/plain": [
       "(1.4503111528426818, -58.01244611370727)"
      ]
     },
     "execution_count": 28,
     "metadata": {},
     "output_type": "execute_result"
    }
   ],
   "source": [
    "hds.max(), hds.max()*-40"
   ]
  },
  {
   "cell_type": "code",
   "execution_count": 29,
   "id": "5a135103-45c9-4562-b3b3-55e1c8d3c287",
   "metadata": {},
   "outputs": [
    {
     "data": {
      "image/png": "[encoded data removed]",
      "text/plain": [
       "<Figure size 640x480 with 1 Axes>"
      ]
     },
     "metadata": {},
     "output_type": "display_data"
    }
   ],
   "source": [
    "xsect = flopy.plot.PlotCrossSection(model=gwf, line={\"row\": 0})\n",
    "pa = xsect.plot_array(hds, head=hds)"
   ]
  },
  {
   "cell_type": "code",
   "execution_count": 30,
   "id": "f3fc6d49-7662-43b5-8c03-6175bdc6f2ba",
   "metadata": {},
   "outputs": [
    {
     "data": {
      "text/plain": [
       "<matplotlib.collections.PolyCollection at 0x129d876d0>"
      ]
     },
     "execution_count": 30,
     "metadata": {},
     "output_type": "execute_result"
    },
    {
     "data": {
      "image/png": "[encoded data removed]",
      "text/plain": [
       "<Figure size 640x480 with 1 Axes>"
      ]
     },
     "metadata": {},
     "output_type": "display_data"
    }
   ],
   "source": [
    "zeta = swiapi.zeta_last\n",
    "x = gwf.modelgrid.xcellcenters.flatten()\n",
    "pxs = flopy.plot.PlotCrossSection(gwf, line={\"row\":0})\n",
    "ax = pxs.ax\n",
    "if ncol < 50:\n",
    "    pxs.plot_grid()\n",
    "#pxs.plot_bc(\"ghb\")\n",
    "ax.plot(x, hds.flatten(), \"k-\")\n",
    "ax.plot(x, zeta.flatten(), \"k--\")\n",
    "# freshwater\n",
    "ax.fill_between(x, hds.flatten(), zeta, color=\"cyan\")\n",
    "# saltwater\n",
    "ax.fill_between(x, zeta, botm, color=\"red\")"
   ]
  },
  {
   "cell_type": "code",
   "execution_count": 31,
   "id": "c8afdf8b-f8e4-40ce-be0f-1bd21eb937f4",
   "metadata": {},
   "outputs": [
    {
     "data": {
      "text/plain": [
       "(-58.012339129032895, -12.800000000000702)"
      ]
     },
     "execution_count": 31,
     "metadata": {},
     "output_type": "execute_result"
    }
   ],
   "source": [
    "zeta.min(), zeta.max()"
   ]
  },
  {
   "cell_type": "code",
   "execution_count": null,
   "id": "06a7efc0-6713-43f2-82ba-7f377c2028cd",
   "metadata": {},
   "outputs": [],
   "source": []
  }
 ],
 "metadata": {
  "kernelspec": {
   "display_name": "Python 3 (ipykernel)",
   "language": "python",
   "name": "python3"
  },
  "language_info": {
   "codemirror_mode": {
    "name": "ipython",
    "version": 3
   },
   "file_extension": ".py",
   "mimetype": "text/x-python",
   "name": "python",
   "nbconvert_exporter": "python",
   "pygments_lexer": "ipython3",
   "version": "3.11.7"
  }
 },
 "nbformat": 4,
 "nbformat_minor": 5
}
