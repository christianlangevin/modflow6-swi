{
 "cells": [
  {
   "cell_type": "markdown",
   "metadata": {},
   "source": [
    "# Case 4 -- Steady Constant Sea Level (from Joe)\n",
    "\n",
    "Comparison with MODFLOW-USG results\n",
    "Uses Newton formulation"
   ]
  },
  {
   "cell_type": "code",
   "execution_count": null,
   "metadata": {},
   "outputs": [],
   "source": [
    "import pathlib as pl\n",
    "import numpy as np\n",
    "import flopy\n",
    "\n",
    "# path to mf6 shared library\n",
    "# executables based on mf6 feat-swi branch at: \n",
    "#   https://github.com/langevin-usgs/modflow6/tree/feat-swi-correction\n",
    "\n",
    "# Put the name of the mf6 executable into mf6exe.txt,\n",
    "# which is not under version control.\n",
    "with open(pl.Path(\"./mf6exe.txt\"), \"r\") as f:\n",
    "    mf6exe = f.readline().strip()\n",
    "print(f\"using executable: {mf6exe}\")\n",
    "\n",
    "sim_ws = pl.Path(\"./temp/case4\")"
   ]
  },
  {
   "cell_type": "markdown",
   "metadata": {},
   "source": [
    "## MODFLOW-USG results for problem"
   ]
  },
  {
   "cell_type": "code",
   "execution_count": null,
   "metadata": {},
   "outputs": [],
   "source": [
    "hds_usg = np.array(\n",
    "      [2.42414664e-16, 3.44822330e-01, 5.49943267e-01, 7.01957249e-01,\n",
    "       8.24049181e-01, 9.26102851e-01, 1.01335249e+00, 1.08894584e+00,\n",
    "       1.15494018e+00, 1.21276031e+00, 1.26343516e+00, 1.30773084e+00,\n",
    "       1.34623039e+00, 1.37938411e+00, 1.40754251e+00, 1.43097863e+00,\n",
    "       1.44990335e+00, 1.46447612e+00, 1.47481228e+00, 1.48098812e+00,\n",
    "       1.48304388e+00, 1.48098812e+00, 1.47481228e+00, 1.46447612e+00,\n",
    "       1.44990335e+00, 1.43097863e+00, 1.40754251e+00, 1.37938411e+00,\n",
    "       1.34623039e+00, 1.30773084e+00, 1.26343516e+00, 1.21276031e+00,\n",
    "       1.15494018e+00, 1.08894584e+00, 1.01335249e+00, 9.26102851e-01,\n",
    "       8.24049181e-01, 7.01957249e-01, 5.49943267e-01, 3.44822330e-01,\n",
    "       0.00000000e+00]\n",
    "                  )"
   ]
  },
  {
   "cell_type": "code",
   "execution_count": null,
   "metadata": {},
   "outputs": [],
   "source": [
    "zeta_usg = np.array(\n",
    "    [-9.69658656e-15, -1.37928932e+01, -2.19977307e+01, -2.80782900e+01,\n",
    "       -3.29619672e+01, -3.70441140e+01, -4.05340994e+01, -4.35578338e+01,\n",
    "       -4.61976073e+01, -4.85104122e+01, -5.05374063e+01, -5.23092336e+01,\n",
    "       -5.38492157e+01, -5.51753643e+01, -5.63017003e+01, -5.72391451e+01,\n",
    "       -5.79961342e+01, -5.85790447e+01, -5.89924913e+01, -5.92395247e+01,\n",
    "       -5.93217551e+01, -5.92395247e+01, -5.89924913e+01, -5.85790447e+01,\n",
    "       -5.79961342e+01, -5.72391451e+01, -5.63017003e+01, -5.51753643e+01,\n",
    "       -5.38492157e+01, -5.23092336e+01, -5.05374063e+01, -4.85104122e+01,\n",
    "       -4.61976073e+01, -4.35578338e+01, -4.05340994e+01, -3.70441140e+01,\n",
    "       -3.29619672e+01, -2.80782900e+01, -2.19977307e+01, -1.37928932e+01,\n",
    "        0.00000000e+00]\n",
    ")"
   ]
  },
  {
   "cell_type": "code",
   "execution_count": null,
   "metadata": {},
   "outputs": [],
   "source": [
    "hds_usg.shape"
   ]
  },
  {
   "cell_type": "markdown",
   "metadata": {},
   "source": [
    "## Create and Run Simple Test Model"
   ]
  },
  {
   "cell_type": "code",
   "execution_count": null,
   "metadata": {},
   "outputs": [],
   "source": [
    "#create simple test model\n",
    "Lx = 2050.0 # meters\n",
    "ncol = 41\n",
    "nlay = 1\n",
    "nrow = 1\n",
    "delr, delc = Lx / ncol, 1.0\n",
    "top = 5.\n",
    "botm = -80.\n",
    "recharge = 1e-3\n",
    "k = 10.\n",
    "h0 = 0.0  \n",
    "h1 = h0\n",
    "icelltype = 1\n",
    "newton_option = \"newton\"\n",
    "if newton_option is None:\n",
    "    linear_accel = \"cg\"\n",
    "    max_outer = 50\n",
    "else:\n",
    "    linear_accel = \"bicgstab\"\n",
    "    max_outer = 500\n",
    "\n",
    "name = \"usg_nr\"\n",
    "sim = flopy.mf6.MFSimulation(\n",
    "    sim_name=name, \n",
    "    sim_ws=sim_ws, \n",
    "    exe_name=mf6exe,\n",
    "    memory_print_option=\"all\"\n",
    ")\n",
    "tdis = flopy.mf6.ModflowTdis(sim)\n",
    "ims = flopy.mf6.ModflowIms(sim, outer_dvclose=1e-8, inner_dvclose=1e-9, linear_acceleration=linear_accel, outer_maximum=max_outer)\n",
    "gwf = flopy.mf6.ModflowGwf(sim, modelname=name, save_flows=True, newtonoptions=newton_option)\n",
    "dis = flopy.mf6.ModflowGwfdis(\n",
    "    gwf, \n",
    "    nlay=nlay,\n",
    "    nrow=nrow,\n",
    "    ncol=ncol,\n",
    "    delr=delr,\n",
    "    delc=delc,\n",
    "    top=top,\n",
    "    botm=botm,\n",
    ")\n",
    "ic = flopy.mf6.ModflowGwfic(gwf)\n",
    "npf = flopy.mf6.ModflowGwfnpf(\n",
    "    gwf,\n",
    "    save_specific_discharge=True,\n",
    "    save_saturation=True,\n",
    "    # alternative_cell_averaging=\"AMT-HMK\",\n",
    "    icelltype=icelltype,\n",
    "    k=k,\n",
    ")\n",
    "zeta_file = name + '.zta'\n",
    "swi = flopy.mf6.ModflowGwfswi(gwf, zeta_filerecord=zeta_file)\n",
    "chd_spd = [\n",
    "    ((0, 0, 0), h0),\n",
    "    ((0, 0, ncol - 1), h1),\n",
    "]\n",
    "chd = flopy.mf6.ModflowGwfchd(gwf, stress_period_data=chd_spd)\n",
    "rch = flopy.mf6.ModflowGwfrcha(gwf, recharge=recharge)\n",
    "budget_file = name + '.bud'\n",
    "head_file = name + '.hds'\n",
    "oc = flopy.mf6.ModflowGwfoc(\n",
    "        gwf,\n",
    "        budget_filerecord=budget_file,\n",
    "        head_filerecord=head_file,\n",
    "        saverecord=[('HEAD', 'ALL'), ('BUDGET', 'ALL')],\n",
    "        printrecord=[('HEAD', 'ALL'), ('BUDGET', 'ALL')],\n",
    ")\n",
    "sim.write_simulation()\n",
    "sim.run_simulation()"
   ]
  },
  {
   "cell_type": "code",
   "execution_count": null,
   "metadata": {},
   "outputs": [],
   "source": [
    "fpth = sim_ws / f\"{gwf.name}.zta\"\n",
    "zeta_all = flopy.utils.HeadFile(fpth, text=\"zeta\").get_alldata()\n",
    "zeta = zeta_all[-1].flatten()\n",
    "\n",
    "x = gwf.modelgrid.xcellcenters.flatten()\n",
    "head = gwf.output.head().get_data().flatten()\n",
    "bud = gwf.output.budget()\n",
    "#print(head.flatten())\n",
    "#print(zeta.flatten())\n",
    "\n",
    "spdis = bud.get_data(text='DATA-SPDIS')[0]\n",
    "qx, qy, qz = flopy.utils.postprocessing.get_specific_discharge(spdis, gwf)\n",
    "pxs = flopy.plot.PlotCrossSection(gwf, line={\"row\":0})\n",
    "ax = pxs.ax\n",
    "if ncol < 50:\n",
    "    pxs.plot_grid()\n",
    "#pxs.plot_bc(\"ghb\")\n",
    "ax.plot(x, head, \"k-\")\n",
    "ax.plot(x, zeta, \"k--\")\n",
    "# freshwater\n",
    "ax.fill_between(x, head, zeta, color=\"cyan\")\n",
    "# saltwater\n",
    "ax.fill_between(x, zeta, botm, color=\"red\")\n",
    "# pxs.plot_vector(qx, qy, qz, normalize=True, color=\"black\")\n",
    "\n",
    "ax.plot(x, hds_usg, lw=0, mec=\"black\", mfc=\"none\", marker=\"o\")\n",
    "ax.plot(x, zeta_usg, lw=0, mec=\"black\", mfc=\"none\", marker=\"x\");\n"
   ]
  },
  {
   "cell_type": "markdown",
   "metadata": {},
   "source": [
    "## Plot Results"
   ]
  },
  {
   "cell_type": "code",
   "execution_count": null,
   "metadata": {},
   "outputs": [],
   "source": [
    "fpth = sim_ws / f\"{name}.dis.grb\"\n",
    "grb = flopy.mf6.utils.MfGrdFile(fpth)\n",
    "ia = grb.ia\n",
    "ja = grb.ja\n",
    "nodes = grb.nodes\n",
    "flowja = bud.get_data(text=\"FLOW-JA-FACE\")[0].flatten()\n",
    "\n",
    "# print flows bewteen cells\n",
    "# for n in range(nodes):\n",
    "#     for ipos in range(ia[n] + 1, ia[n + 1]):\n",
    "#         m = ja[ipos]\n",
    "#         q = flowja[ipos]\n",
    "#         if m > n:\n",
    "#             print(f\"{n=} {m=} {q=}\")"
   ]
  },
  {
   "cell_type": "code",
   "execution_count": null,
   "metadata": {},
   "outputs": [],
   "source": [
    "bobj = gwf.output.budget()"
   ]
  },
  {
   "cell_type": "code",
   "execution_count": null,
   "metadata": {},
   "outputs": [],
   "source": [
    "bobj.get_unique_record_names()"
   ]
  },
  {
   "cell_type": "code",
   "execution_count": null,
   "metadata": {},
   "outputs": [],
   "source": [
    "bobj.get_data(text=\"DATA-SAT\")"
   ]
  },
  {
   "cell_type": "code",
   "execution_count": null,
   "metadata": {},
   "outputs": [],
   "source": [
    "-head * 40."
   ]
  },
  {
   "cell_type": "code",
   "execution_count": null,
   "metadata": {},
   "outputs": [],
   "source": [
    "zeta"
   ]
  },
  {
   "cell_type": "code",
   "execution_count": null,
   "metadata": {},
   "outputs": [],
   "source": [
    "(-head * 40.) - zeta"
   ]
  },
  {
   "cell_type": "code",
   "execution_count": null,
   "metadata": {},
   "outputs": [],
   "source": [
    "head.max()"
   ]
  }
 ],
 "metadata": {
  "kernelspec": {
   "display_name": "flopy",
   "language": "python",
   "name": "python3"
  },
  "language_info": {
   "codemirror_mode": {
    "name": "ipython",
    "version": 3
   },
   "file_extension": ".py",
   "mimetype": "text/x-python",
   "name": "python",
   "nbconvert_exporter": "python",
   "pygments_lexer": "ipython3",
   "version": "3.13.3"
  }
 },
 "nbformat": 4,
 "nbformat_minor": 4
}
