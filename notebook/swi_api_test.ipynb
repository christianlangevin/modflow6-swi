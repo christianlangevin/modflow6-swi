{
 "cells": [
  {
   "cell_type": "code",
   "execution_count": 1,
   "metadata": {},
   "outputs": [],
   "source": [
    "import pathlib as pl\n",
    "import numpy as np\n",
    "import modflowapi\n",
    "import swiapi\n",
    "import flopy\n",
    "\n",
    "# path to mf6 shared library\n",
    "# executables based on mf6 feat-swi branch at: \n",
    "#   https://github.com/langevin-usgs/modflow6/tree/feat-swi\n",
    "mf6exe = \"/Users/langevin/langevin/dev/modflow6-fork.git/bin/mf6\"\n",
    "libmf6 = \"/Users/langevin/langevin/dev/modflow6-fork.git/bin/libmf6.dylib\"\n"
   ]
  },
  {
   "cell_type": "markdown",
   "metadata": {},
   "source": [
    "## Create and Run Simple Test Model"
   ]
  },
  {
   "cell_type": "code",
   "execution_count": 2,
   "metadata": {},
   "outputs": [
    {
     "name": "stdout",
     "output_type": "stream",
     "text": [
      "writing simulation...\n",
      "  writing simulation name file...\n",
      "  writing simulation tdis package...\n",
      "  writing solution package ims_-1...\n",
      "  writing model mymodel...\n",
      "    writing model name file...\n",
      "    writing package dis...\n",
      "    writing package ic...\n",
      "    writing package npf...\n",
      "    writing package swi...\n",
      "    writing package ghb_0...\n",
      "INFORMATION: maxbound in ('gwf6', 'ghb', 'dimensions') changed to 2 based on size of stress_period_data\n",
      "    writing package rcha_0...\n",
      "    writing package oc...\n"
     ]
    }
   ],
   "source": [
    "#create simple test model\n",
    "Lx = 10000 # meters\n",
    "delr, delc = 100., 1.\n",
    "ncol = int(Lx / delr)\n",
    "nlay = 1\n",
    "nrow = 1\n",
    "top = 50.\n",
    "botm = -400.\n",
    "recharge = 0.001\n",
    "k = 10.\n",
    "h0 = 0.\n",
    "h1 = h0\n",
    "icelltype = 1\n",
    "\n",
    "ws = './mymodel'\n",
    "name = 'mymodel'\n",
    "sim = flopy.mf6.MFSimulation(\n",
    "    sim_name=name, \n",
    "    sim_ws=ws, \n",
    "    exe_name=mf6exe,\n",
    "    memory_print_option=\"all\"\n",
    ")\n",
    "tdis = flopy.mf6.ModflowTdis(sim)\n",
    "ims = flopy.mf6.ModflowIms(sim)\n",
    "gwf = flopy.mf6.ModflowGwf(sim, modelname=name, save_flows=True)\n",
    "dis = flopy.mf6.ModflowGwfdis(\n",
    "    gwf, \n",
    "    nlay=nlay,\n",
    "    nrow=nrow,\n",
    "    ncol=ncol,\n",
    "    delr=delr,\n",
    "    delc=delc,\n",
    "    top=top,\n",
    "    botm=botm,\n",
    ")\n",
    "ic = flopy.mf6.ModflowGwfic(gwf)\n",
    "npf = flopy.mf6.ModflowGwfnpf(\n",
    "    gwf,\n",
    "    save_specific_discharge=True,\n",
    "    alternative_cell_averaging=\"harmonic\",\n",
    "    icelltype=icelltype,\n",
    "    k=k,\n",
    ")\n",
    "swi = flopy.mf6.ModflowGwfswi(gwf, zeta=botm)\n",
    "cghb = 1. * delr * delc / 10.\n",
    "ghb = flopy.mf6.ModflowGwfghb(gwf, stress_period_data=[[0, 0, 0, h0, cghb],\n",
    "                                                       [0, 0, ncol - 1, h1, cghb]])\n",
    "rch = flopy.mf6.ModflowGwfrcha(gwf, recharge=recharge)\n",
    "budget_file = name + '.bud'\n",
    "head_file = name + '.hds'\n",
    "oc = flopy.mf6.ModflowGwfoc(\n",
    "        gwf,\n",
    "        budget_filerecord=budget_file,\n",
    "        head_filerecord=head_file,\n",
    "        saverecord=[('HEAD', 'ALL'), ('BUDGET', 'ALL')],\n",
    "        printrecord=[('HEAD', 'ALL'), ('BUDGET', 'ALL')],\n",
    ")\n",
    "sim.write_simulation()\n",
    "#sim.run_simulation()"
   ]
  },
  {
   "cell_type": "code",
   "execution_count": 3,
   "metadata": {},
   "outputs": [],
   "source": [
    "# head = gwf.output.head().get_data()\n",
    "# bud = gwf.output.budget()\n",
    "# print(head.flatten())\n",
    "\n",
    "# spdis = bud.get_data(text='DATA-SPDIS')[0]\n",
    "# qx, qy, qz = flopy.utils.postprocessing.get_specific_discharge(spdis, gwf)\n",
    "# pxs = flopy.plot.PlotCrossSection(gwf, line={\"row\":0})\n",
    "# pxs.plot_grid()\n",
    "# pxs.plot_bc(\"ghb\")\n",
    "# pxs.plot_vector(qx, qy, qz, normalize=True, color=\"black\")"
   ]
  },
  {
   "cell_type": "markdown",
   "metadata": {},
   "source": [
    "## Run Example Using API\n",
    "\n",
    "### Run Model by Time Step"
   ]
  },
  {
   "cell_type": "code",
   "execution_count": 4,
   "metadata": {},
   "outputs": [],
   "source": [
    "# mf6 =  modflowapi.ModflowApi(libmf6, working_directory=ws)\n",
    "# print(\"Initializing mf6...\")\n",
    "# mf6.initialize()\n",
    "# current_time = 0.\n",
    "# end_time = mf6.get_end_time()\n",
    "\n",
    "# while current_time < end_time:\n",
    "#     print(\"  Updating mf6...\")\n",
    "#     mf6.update()\n",
    "#     current_time = mf6.get_current_time()\n",
    "\n",
    "# print (\"Finalizing mf6...\")\n",
    "# mf6.finalize()"
   ]
  },
  {
   "cell_type": "markdown",
   "metadata": {},
   "source": [
    "### Run Model By Iteration"
   ]
  },
  {
   "cell_type": "code",
   "execution_count": 5,
   "metadata": {},
   "outputs": [
    {
     "name": "stdout",
     "output_type": "stream",
     "text": [
      "Initializing mf6...\n",
      "Accessing pointer using tag: MYMODEL/INSTO\n",
      "Accessing pointer using tag: MYMODEL/ISS\n",
      "Accessing pointer using tag: MYMODEL/X\n",
      "Accessing pointer using tag: MYMODEL/XOLD\n",
      "Accessing pointer using tag: MYMODEL/RHS\n",
      "Accessing pointer using tag: SLN_1/IA\n",
      "Accessing pointer using tag: SLN_1/JA\n",
      "Accessing pointer using tag: SLN_1/AMAT\n",
      "Accessing pointer using tag: MYMODEL/DIS/AREA\n",
      "Accessing pointer using tag: MYMODEL/DIS/TOP\n",
      "Accessing pointer using tag: MYMODEL/DIS/BOT\n",
      "Accessing pointer using tag: MYMODEL/NPF/SAT\n",
      "Accessing pointer using tag: MYMODEL/NPF/CONDSAT\n",
      "Accessing pointer using tag: MYMODEL/SWI/ZETA\n",
      "Accessing pointer using tag: MYMODEL/SWI/HCOF\n",
      "Accessing pointer using tag: MYMODEL/SWI/RHS\n",
      "  Get and prepare time step...\n",
      "  Prepare solve...\n",
      "\n",
      "    Solve...(kiter=0)\n",
      "\n",
      "    Solve...(kiter=1)\n",
      "\n",
      "    Solve...(kiter=2)\n",
      "\n",
      "    Solve...(kiter=3)\n",
      "\n",
      "    Solve...(kiter=4)\n",
      "\n",
      "    Solve...(kiter=5)\n",
      "\n",
      "    Solve...(kiter=6)\n",
      "\n",
      "    Solve...(kiter=7)\n",
      "\n",
      "    Solve...(kiter=8)\n",
      "  Finalize solve...\n",
      "  Finalize time step...\n",
      "Finalizing mf6...\n"
     ]
    }
   ],
   "source": [
    "mf6 =  modflowapi.ModflowApi(libmf6, working_directory=ws)\n",
    "swiapi = swiapi.SwiAPi(mf6, name)\n",
    "print(\"Initializing mf6...\")\n",
    "mf6.initialize()\n",
    "\n",
    "swiapi.create_pointers()\n",
    "# swiapi.print_pointers()\n",
    "\n",
    "current_time = 0.\n",
    "end_time = mf6.get_end_time()\n",
    "\n",
    "# update zeta using the initial head\n",
    "swiapi.update_zeta()\n",
    "\n",
    "while current_time < end_time:\n",
    "    \n",
    "    print(\"  Get and prepare time step...\")\n",
    "    dt = mf6.get_time_step()\n",
    "    mf6.prepare_time_step(dt)\n",
    "    \n",
    "    kiter = 0\n",
    "    print(\"  Prepare solve...\")\n",
    "    mf6.prepare_solve(1)\n",
    "    while kiter < 30:\n",
    "\n",
    "        print(f\"\\n    Solve...(kiter={kiter})\")\n",
    "        swiapi.formulate(dt)\n",
    "        has_converged = mf6.solve(1)\n",
    "\n",
    "        # update zeta using the recent head iterate\n",
    "        swiapi.update_zeta()\n",
    "\n",
    "        if has_converged:\n",
    "            break\n",
    "        kiter += 1\n",
    "\n",
    "        # swiapi.print_pointers()\n",
    "\n",
    "    print(\"  Finalize solve...\")\n",
    "    mf6.finalize_solve(1)\n",
    "    \n",
    "    print(\"  Finalize time step...\")\n",
    "    mf6.finalize_time_step()\n",
    "    current_time = mf6.get_current_time()\n",
    "\n",
    "print (\"Finalizing mf6...\")\n",
    "mf6.finalize()"
   ]
  },
  {
   "cell_type": "code",
   "execution_count": 6,
   "metadata": {},
   "outputs": [
    {
     "data": {
      "text/plain": [
       "<matplotlib.collections.PolyCollection at 0x154c9c1f0>"
      ]
     },
     "execution_count": 6,
     "metadata": {},
     "output_type": "execute_result"
    },
    {
     "data": {
      "image/png": "[encoded data removed]",
      "text/plain": [
       "<Figure size 640x480 with 1 Axes>"
      ]
     },
     "metadata": {},
     "output_type": "display_data"
    }
   ],
   "source": [
    "zeta = swiapi.zeta_last\n",
    "x = gwf.modelgrid.xcellcenters.flatten()\n",
    "head = gwf.output.head().get_data().flatten()\n",
    "bud = gwf.output.budget()\n",
    "#print(head.flatten())\n",
    "#print(zeta.flatten())\n",
    "\n",
    "spdis = bud.get_data(text='DATA-SPDIS')[0]\n",
    "qx, qy, qz = flopy.utils.postprocessing.get_specific_discharge(spdis, gwf)\n",
    "pxs = flopy.plot.PlotCrossSection(gwf, line={\"row\":0})\n",
    "ax = pxs.ax\n",
    "if ncol < 50:\n",
    "    pxs.plot_grid()\n",
    "#pxs.plot_bc(\"ghb\")\n",
    "ax.plot(x, head, \"k-\")\n",
    "ax.plot(x, zeta, \"k--\")\n",
    "# freshwater\n",
    "ax.fill_between(x, head, zeta, color=\"cyan\")\n",
    "# saltwater\n",
    "ax.fill_between(x, zeta, botm, color=\"red\")\n",
    "# pxs.plot_vector(qx, qy, qz, normalize=True, color=\"black\")"
   ]
  },
  {
   "cell_type": "code",
   "execution_count": 7,
   "metadata": {},
   "outputs": [],
   "source": [
    "fpth = pl.Path(ws) / f\"{name}.dis.grb\"\n",
    "grb = flopy.mf6.utils.MfGrdFile(fpth)\n",
    "ia = grb.ia\n",
    "ja = grb.ja\n",
    "nodes = grb.nodes\n",
    "flowja = bud.get_data(text=\"FLOW-JA-FACE\")[0].flatten()\n",
    "\n",
    "# print flows bewteen cells\n",
    "# for n in range(nodes):\n",
    "#     for ipos in range(ia[n] + 1, ia[n + 1]):\n",
    "#         m = ja[ipos]\n",
    "#         q = flowja[ipos]\n",
    "#         if m > n:\n",
    "#             print(f\"{n=} {m=} {q=}\")"
   ]
  },
  {
   "cell_type": "code",
   "execution_count": null,
   "metadata": {},
   "outputs": [],
   "source": []
  }
 ],
 "metadata": {
  "kernelspec": {
   "display_name": "modflow6",
   "language": "python",
   "name": "python3"
  },
  "language_info": {
   "codemirror_mode": {
    "name": "ipython",
    "version": 3
   },
   "file_extension": ".py",
   "mimetype": "text/x-python",
   "name": "python",
   "nbconvert_exporter": "python",
   "pygments_lexer": "ipython3",
   "version": "3.10.11"
  }
 },
 "nbformat": 4,
 "nbformat_minor": 2
}
