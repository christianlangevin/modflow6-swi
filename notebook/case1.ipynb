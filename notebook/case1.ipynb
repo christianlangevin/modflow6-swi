{
 "cells": [
  {
   "cell_type": "markdown",
   "metadata": {},
   "source": [
    "# Case 1 -- Steady-State, One Layer, Freshwater Flow\n",
    "\n",
    "Test 3 cases:\n",
    "1. Confined\n",
    "2. Unconfined\n",
    "3. Unconfined Newton\n"
   ]
  },
  {
   "cell_type": "code",
   "execution_count": null,
   "metadata": {},
   "outputs": [],
   "source": [
    "import pathlib as pl\n",
    "import numpy as np\n",
    "import matplotlib.pyplot as plt\n",
    "import flopy\n",
    "\n",
    "# path to mf6 shared library\n",
    "# executables based on mf6 feat-swi branch at: \n",
    "#   https://github.com/langevin-usgs/modflow6/tree/feat-swi-correction\n",
    "\n",
    "# Put the name of the mf6 executable into mf6exe.txt,\n",
    "# which is not under version control.\n",
    "with open(pl.Path(\"./mf6exe.txt\"), \"r\") as f:\n",
    "    mf6exe = f.readline().strip()\n",
    "print(f\"using executable: {mf6exe}\")\n",
    "\n",
    "sim_ws = pl.Path(\"./temp/case1\")"
   ]
  },
  {
   "cell_type": "markdown",
   "metadata": {},
   "source": [
    "## Setup Functions"
   ]
  },
  {
   "cell_type": "code",
   "execution_count": null,
   "metadata": {},
   "outputs": [],
   "source": [
    "def get_simulation(ws, idx):\n",
    "\n",
    "    # idx 0: confined\n",
    "    # idx 1: unconfined\n",
    "    # idx 2: newton unconfined\n",
    "    if idx == 0:\n",
    "        top = 0.\n",
    "        newtonoptions = False\n",
    "        icelltype = 0\n",
    "    elif idx == 1:\n",
    "        top = 50.\n",
    "        newtonoptions = False\n",
    "        icelltype = 1\n",
    "    elif idx == 2:\n",
    "        top = 50.\n",
    "        newtonoptions = \"newton\"\n",
    "        icelltype = 1\n",
    "\n",
    "    #create simple test model\n",
    "    Lx = 10000 # meters\n",
    "    delr, delc = 100., 1.\n",
    "    ncol = int(Lx / delr) + 1\n",
    "    nlay = 1\n",
    "    nrow = 1\n",
    "    botm = -400.\n",
    "    recharge = 0.001\n",
    "    k = 10.\n",
    "    h0 = 0.\n",
    "    h1 = h0\n",
    "\n",
    "    name = 'mymodel'\n",
    "    sim = flopy.mf6.MFSimulation(\n",
    "        sim_name=name, \n",
    "        sim_ws=ws, \n",
    "        exe_name=mf6exe,\n",
    "        memory_print_option=\"all\"\n",
    "    )\n",
    "    nper = 1\n",
    "    nstp = 1\n",
    "    perlen = 1.\n",
    "    perioddata = nper * [(perlen, nstp, 1.)]\n",
    "    tdis = flopy.mf6.ModflowTdis(sim, perioddata=perioddata)\n",
    "    ims = flopy.mf6.ModflowIms(\n",
    "        sim, \n",
    "        print_option=\"summary\",\n",
    "        linear_acceleration=\"BICGSTAB\",\n",
    "        outer_maximum=500,\n",
    "    )\n",
    "    gwf = flopy.mf6.ModflowGwf(\n",
    "        sim, \n",
    "        modelname=name, \n",
    "        save_flows=True, \n",
    "        newtonoptions=newtonoptions,\n",
    "    )\n",
    "    dis = flopy.mf6.ModflowGwfdis(\n",
    "        gwf, \n",
    "        nlay=nlay,\n",
    "        nrow=nrow,\n",
    "        ncol=ncol,\n",
    "        delr=delr,\n",
    "        delc=delc,\n",
    "        top=top,\n",
    "        botm=botm,\n",
    "    )\n",
    "    ic = flopy.mf6.ModflowGwfic(gwf, strt=0.)\n",
    "    npf = flopy.mf6.ModflowGwfnpf(\n",
    "        gwf,\n",
    "        save_specific_discharge=True,\n",
    "        alternative_cell_averaging=\"amt-hmk\", #\"harmonic\",\n",
    "        icelltype=icelltype,\n",
    "        k=k,\n",
    "    )\n",
    "    zeta_file = name + '.zta'\n",
    "    swi = flopy.mf6.ModflowGwfswi(gwf, zeta_filerecord=zeta_file)\n",
    "    cghb = 10. * delr * delc / 10.\n",
    "    ghb = flopy.mf6.ModflowGwfghb(gwf, stress_period_data=[[0, 0, 0, h0, cghb],\n",
    "                                                        [0, 0, ncol - 1, h1, cghb]])\n",
    "    rch = flopy.mf6.ModflowGwfrcha(gwf, recharge=recharge)\n",
    "    budget_file = name + '.bud'\n",
    "    head_file = name + '.hds'\n",
    "    oc = flopy.mf6.ModflowGwfoc(\n",
    "            gwf,\n",
    "            budget_filerecord=budget_file,\n",
    "            head_filerecord=head_file,\n",
    "            saverecord=[('HEAD', 'ALL'), ('BUDGET', 'ALL')],\n",
    "            printrecord=[('HEAD', 'ALL'), ('BUDGET', 'ALL')],\n",
    "    )\n",
    "    return sim\n",
    "\n",
    "def make_cross_section_plot(sim, idx, title):\n",
    "    gwf = sim.gwf[0]\n",
    "    x = gwf.modelgrid.xcellcenters.flatten()\n",
    "    botm = gwf.dis.botm.array.flatten()\n",
    "    ws = sim.sim_path\n",
    "    fpth = pl.Path(ws) / \"mymodel.zta\"\n",
    "    head = gwf.output.head().get_data().flatten()\n",
    "    zeta = flopy.utils.HeadFile(fpth, text=\"zeta\").get_data().flatten()\n",
    "    if idx == 0:\n",
    "        tp = np.zeros(head.shape)\n",
    "    else:\n",
    "        tp = head\n",
    "    pxs = flopy.plot.PlotCrossSection(gwf, line={\"row\":0})\n",
    "    ax = pxs.ax\n",
    "    ax.plot(x, head, \"k-\")\n",
    "    ax.plot(x, zeta, \"k--\")\n",
    "    ax.fill_between(x, tp, zeta, color=\"cyan\")\n",
    "    ax.fill_between(x, zeta, botm, color=\"red\")\n",
    "    ax.set_title(title)\n",
    "    ax.set_ylim(-400, 50)\n",
    "\n",
    "# analytical solutions based on Fetter 1972 paper\n",
    "def analytical_head_unconfined(x, recharge, a, k, alphaf):\n",
    "    return np.sqrt(recharge * (a ** 2 - x ** 2) / k / (1 + alphaf))\n",
    "\n",
    "def analytical_head_confined(x, recharge, a, k, alphaf):\n",
    "    return np.sqrt(recharge * (a ** 2 - x ** 2) / k / alphaf)\n",
    "\n",
    "def make_head_plot(sim, idx, title):\n",
    "    gwf = sim.gwf[0]\n",
    "    ncol = gwf.dis.ncol.get_data()\n",
    "    delr = gwf.dis.delr.get_data()[0]\n",
    "    hk = gwf.npf.k.get_data()[0][0, 0]\n",
    "    recharge = gwf.get_package(\"RCH\").recharge.get_data()[0][0, 0] # period 0 and cell 0, 0\n",
    "    jstart = int((ncol - 1) / 2)\n",
    "    ax = plt.subplot(1, 1, 1)\n",
    "    xc = gwf.modelgrid.xcellcenters.flatten()\n",
    "    Lx = xc[-1] - xc[0]\n",
    "    xoffset = Lx / 2 + delr / 2\n",
    "    xanalytical = xc[jstart:] - xoffset\n",
    "    if idx == 0:\n",
    "        hanalytical = analytical_head_confined(xanalytical, recharge, Lx / 2., hk, 40)\n",
    "    else:\n",
    "        hanalytical = analytical_head_unconfined(xanalytical, recharge, Lx / 2., hk, 40)\n",
    "    hmodel = sim.gwf[0].output.head().get_data().flatten()[jstart:]\n",
    "    ax.plot(xanalytical, hanalytical, 'b-', label=\"analytical\")\n",
    "    ax.plot(xanalytical, hmodel, 'bo', mfc=\"none\", label=\"numerical\")\n",
    "    ax.legend()\n",
    "    ax.set_title(title)"
   ]
  },
  {
   "cell_type": "markdown",
   "metadata": {},
   "source": [
    "## Case 1a -- Confined"
   ]
  },
  {
   "cell_type": "code",
   "execution_count": null,
   "metadata": {},
   "outputs": [],
   "source": [
    "idx = 0\n",
    "title = \"Case 1a -- Confined\"\n",
    "sim = get_simulation(sim_ws, idx)\n",
    "sim.write_simulation()\n",
    "sim.run_simulation()\n",
    "make_cross_section_plot(sim, idx, title)"
   ]
  },
  {
   "cell_type": "code",
   "execution_count": null,
   "metadata": {},
   "outputs": [],
   "source": [
    "make_head_plot(sim, idx, title)"
   ]
  },
  {
   "cell_type": "markdown",
   "metadata": {},
   "source": [
    "## Case 1b -- Unconfined"
   ]
  },
  {
   "cell_type": "code",
   "execution_count": null,
   "metadata": {},
   "outputs": [],
   "source": [
    "idx = 1\n",
    "title = \"Case 1b -- Unconfined\"\n",
    "sim = get_simulation(sim_ws, idx)\n",
    "sim.write_simulation()\n",
    "sim.run_simulation()\n",
    "make_cross_section_plot(sim, idx, title)"
   ]
  },
  {
   "cell_type": "code",
   "execution_count": null,
   "metadata": {},
   "outputs": [],
   "source": [
    "make_head_plot(sim, idx, title)"
   ]
  },
  {
   "cell_type": "markdown",
   "metadata": {},
   "source": [
    "## Case 1c -- Unconfined Newton"
   ]
  },
  {
   "cell_type": "code",
   "execution_count": null,
   "metadata": {},
   "outputs": [],
   "source": [
    "idx = 2\n",
    "title = \"Case 1c -- Unconfined Newton\"\n",
    "sim = get_simulation(sim_ws, idx)\n",
    "sim.write_simulation()\n",
    "sim.run_simulation()\n",
    "make_cross_section_plot(sim, idx, title)"
   ]
  },
  {
   "cell_type": "code",
   "execution_count": null,
   "metadata": {},
   "outputs": [],
   "source": [
    "make_head_plot(sim, idx, title)"
   ]
  },
  {
   "cell_type": "code",
   "execution_count": null,
   "metadata": {},
   "outputs": [],
   "source": []
  }
 ],
 "metadata": {
  "kernelspec": {
   "display_name": "flopy",
   "language": "python",
   "name": "python3"
  },
  "language_info": {
   "codemirror_mode": {
    "name": "ipython",
    "version": 3
   },
   "file_extension": ".py",
   "mimetype": "text/x-python",
   "name": "python",
   "nbconvert_exporter": "python",
   "pygments_lexer": "ipython3",
   "version": "3.13.3"
  }
 },
 "nbformat": 4,
 "nbformat_minor": 2
}
