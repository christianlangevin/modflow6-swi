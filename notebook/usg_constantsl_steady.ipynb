{
 "cells": [
  {
   "cell_type": "code",
   "execution_count": 1,
   "metadata": {},
   "outputs": [],
   "source": [
    "import pathlib as pl\n",
    "import numpy as np\n",
    "import modflowapi\n",
    "import swiapi\n",
    "import flopy\n",
    "\n",
    "# path to mf6 shared library\n",
    "# executables based on mf6 feat-swi branch at: \n",
    "#   https://github.com/langevin-usgs/modflow6/tree/feat-swi\n",
    "mf6exe = \"/Users/jdhughes/Documents/Work/SWI6/modflow6/bin/mf6\"\n",
    "libmf6 = \"/Users/jdhughes/Documents/Work/SWI6/modflow6/bin/libmf6.dylib\"\n"
   ]
  },
  {
   "cell_type": "markdown",
   "metadata": {},
   "source": [
    "## MODFLOW-USG results for problem"
   ]
  },
  {
   "cell_type": "code",
   "execution_count": 2,
   "metadata": {},
   "outputs": [],
   "source": [
    "hds_usg = np.array(\n",
    "      [0.2       , 0.59686235, 0.76508142, 0.89446596, 1.00096258,\n",
    "       1.0914691 , 1.16976336, 1.23818961, 1.29832132, 1.35127281,\n",
    "       1.397864  , 1.43871521, 1.47430508, 1.50500784, 1.53111814,\n",
    "       1.55286808, 1.57043912, 1.58397057, 1.59356545, 1.59929471,\n",
    "       1.60119991, 1.59929471, 1.59356545, 1.58397057, 1.57043912,\n",
    "       1.55286808, 1.53111814, 1.50500784, 1.47430508, 1.43871521,\n",
    "       1.397864  , 1.35127281, 1.29832132, 1.23818961, 1.16976336,\n",
    "       1.0914691 , 1.00096258, 0.89446596, 0.76508142, 0.59686235,\n",
    "       0.2       ]\n",
    "                  )"
   ]
  },
  {
   "cell_type": "code",
   "execution_count": 3,
   "metadata": {},
   "outputs": [],
   "source": [
    "zeta_usg = np.array(\n",
    "    [ -8.        , -23.87449386, -30.60325662, -35.77863827,\n",
    "       -40.03850338, -43.65876407, -46.79053437, -49.52758447,\n",
    "       -51.93285291, -54.05091221, -55.91456001, -57.5486084 ,\n",
    "       -58.97220318, -60.20031357, -61.24472552, -62.11472301,\n",
    "       -62.81756499, -63.35882268, -63.74261796, -63.97178855,\n",
    "       -64.04799631, -63.97178855, -63.74261796, -63.35882268,\n",
    "       -62.81756499, -62.11472301, -61.24472552, -60.20031357,\n",
    "       -58.97220318, -57.5486084 , -55.91456001, -54.05091221,\n",
    "       -51.93285291, -49.52758447, -46.79053437, -43.65876407,\n",
    "       -40.03850338, -35.77863827, -30.60325662, -23.87449386,\n",
    "        -8.        ]\n",
    ")"
   ]
  },
  {
   "cell_type": "code",
   "execution_count": 4,
   "metadata": {},
   "outputs": [
    {
     "data": {
      "text/plain": [
       "(41,)"
      ]
     },
     "execution_count": 4,
     "metadata": {},
     "output_type": "execute_result"
    }
   ],
   "source": [
    "hds_usg.shape"
   ]
  },
  {
   "cell_type": "markdown",
   "metadata": {},
   "source": [
    "## Create and Run Simple Test Model"
   ]
  },
  {
   "cell_type": "code",
   "execution_count": 5,
   "metadata": {},
   "outputs": [
    {
     "name": "stdout",
     "output_type": "stream",
     "text": [
      "writing simulation...\n",
      "  writing simulation name file...\n",
      "  writing simulation tdis package...\n",
      "  writing solution package ims_-1...\n",
      "  writing model usg...\n",
      "    writing model name file...\n",
      "    writing package dis...\n",
      "    writing package ic...\n",
      "    writing package npf...\n",
      "    writing package swi...\n",
      "    writing package chd_0...\n",
      "INFORMATION: maxbound in ('gwf6', 'chd', 'dimensions') changed to 2 based on size of stress_period_data\n",
      "    writing package rcha_0...\n",
      "    writing package oc...\n"
     ]
    }
   ],
   "source": [
    "#create simple test model\n",
    "Lx = 2050.0 # meters\n",
    "ncol = 41\n",
    "nlay = 1\n",
    "nrow = 1\n",
    "delr, delc = Lx / ncol, 1.0\n",
    "top = 5.\n",
    "botm = -80.\n",
    "recharge = 1e-3\n",
    "k = 10.\n",
    "h0 = 0.2\n",
    "h1 = h0\n",
    "icelltype = 1\n",
    "max_outer = 50\n",
    "newton_option = None #\"newton\"\n",
    "if newton_option is None:\n",
    "    linear_accel = \"cg\"\n",
    "else:\n",
    "    linear_accel = \"bicgstab\"\n",
    "\n",
    "name = \"usg\"\n",
    "ws = pl.Path(f\"temp/{name}\")\n",
    "sim = flopy.mf6.MFSimulation(\n",
    "    sim_name=name, \n",
    "    sim_ws=ws, \n",
    "    exe_name=mf6exe,\n",
    "    memory_print_option=\"all\"\n",
    ")\n",
    "tdis = flopy.mf6.ModflowTdis(sim)\n",
    "ims = flopy.mf6.ModflowIms(sim, outer_dvclose=1e-8, inner_dvclose=1e-9, linear_acceleration=linear_accel, outer_maximum=max_outer)\n",
    "gwf = flopy.mf6.ModflowGwf(sim, modelname=name, save_flows=True, newtonoptions=newton_option)\n",
    "dis = flopy.mf6.ModflowGwfdis(\n",
    "    gwf, \n",
    "    nlay=nlay,\n",
    "    nrow=nrow,\n",
    "    ncol=ncol,\n",
    "    delr=delr,\n",
    "    delc=delc,\n",
    "    top=top,\n",
    "    botm=botm,\n",
    ")\n",
    "ic = flopy.mf6.ModflowGwfic(gwf)\n",
    "npf = flopy.mf6.ModflowGwfnpf(\n",
    "    gwf,\n",
    "    save_specific_discharge=True,\n",
    "    save_saturation=True,\n",
    "    # alternative_cell_averaging=\"AMT-HMK\",\n",
    "    icelltype=icelltype,\n",
    "    k=k,\n",
    ")\n",
    "swi = flopy.mf6.ModflowGwfswi(gwf, zeta=botm)\n",
    "chd_spd = [\n",
    "    ((0, 0, 0), h0),\n",
    "    ((0, 0, ncol - 1), h1),\n",
    "]\n",
    "chd = flopy.mf6.ModflowGwfchd(gwf, stress_period_data=chd_spd)\n",
    "rch = flopy.mf6.ModflowGwfrcha(gwf, recharge=recharge)\n",
    "budget_file = name + '.bud'\n",
    "head_file = name + '.hds'\n",
    "oc = flopy.mf6.ModflowGwfoc(\n",
    "        gwf,\n",
    "        budget_filerecord=budget_file,\n",
    "        head_filerecord=head_file,\n",
    "        saverecord=[('HEAD', 'ALL'), ('BUDGET', 'ALL')],\n",
    "        printrecord=[('HEAD', 'ALL'), ('BUDGET', 'ALL')],\n",
    ")\n",
    "sim.write_simulation()\n",
    "#sim.run_simulation()"
   ]
  },
  {
   "cell_type": "markdown",
   "metadata": {},
   "source": [
    "## Run Example Using API\n",
    "\n",
    "### Run Model by Iteration"
   ]
  },
  {
   "cell_type": "code",
   "execution_count": 6,
   "metadata": {},
   "outputs": [
    {
     "name": "stdout",
     "output_type": "stream",
     "text": [
      "Initializing mf6...\n",
      "Accessing pointer using tag: TDIS/DELT\n",
      "Accessing pointer using tag: TDIS/NPER\n",
      "Accessing pointer using tag: USG/INSTO\n",
      "Accessing pointer using tag: USG/ISS\n",
      "Accessing pointer using tag: USG/X\n",
      "Accessing pointer using tag: USG/XOLD\n",
      "Accessing pointer using tag: USG/RHS\n",
      "Accessing pointer using tag: SLN_1/IA\n",
      "Accessing pointer using tag: SLN_1/JA\n",
      "Accessing pointer using tag: SLN_1/AMAT\n",
      "Accessing pointer using tag: USG/DIS/AREA\n",
      "Accessing pointer using tag: USG/DIS/TOP\n",
      "Accessing pointer using tag: USG/DIS/BOT\n",
      "Accessing pointer using tag: USG/NPF/SAT\n",
      "Accessing pointer using tag: USG/NPF/CONDSAT\n",
      "Accessing pointer using tag: USG/NPF/DERV_MULT\n",
      "Accessing pointer using tag: USG/SWI/ZETA\n",
      "Accessing pointer using tag: USG/SWI/HCOF\n",
      "Accessing pointer using tag: USG/SWI/RHS\n",
      "Simulation end time = 1.0...\n",
      "\n",
      "  Solving for time 0.0\n",
      "  Prepare time step with dt=[0.]...\n",
      "  Prepare solve...\n",
      "    Solve...(kiter=0)\n",
      "    Solve...(kiter=1)\n",
      "    Solve...(kiter=2)\n",
      "    Solve...(kiter=3)\n",
      "    Solve...(kiter=4)\n",
      "    Solve...(kiter=5)\n",
      "    Solve...(kiter=6)\n",
      "    Solve...(kiter=7)\n",
      "    Solve...(kiter=8)\n",
      "    Solve...(kiter=9)\n",
      "    Solve...(kiter=10)\n",
      "    Solve...(kiter=11)\n",
      "    Solve...(kiter=12)\n",
      "    Solve...(kiter=13)\n",
      "    Solve...(kiter=14)\n",
      "    Solve...(kiter=15)\n",
      "  Finalize solve...\n",
      "  Finalize time step...\n",
      "Finalizing mf6...\n"
     ]
    },
    {
     "name": "stderr",
     "output_type": "stream",
     "text": [
      "/Users/jdhughes/miniforge3/envs/develop/lib/python3.11/site-packages/xmipy/xmiwrapper.py:624: DeprecationWarning: Conversion of an array with ndim > 0 to a scalar is deprecated, and will error in future. Ensure you extract a single element from your array before performing this operation. (Deprecated NumPy 1.25.)\n",
      "  c_dt = c_double(dt)\n"
     ]
    }
   ],
   "source": [
    "mf6_swi = swiapi.SwiAPI(libmf6, ws, name)\n",
    "mf6_swi.run(maxiter=max_outer)"
   ]
  },
  {
   "cell_type": "code",
   "execution_count": 7,
   "metadata": {},
   "outputs": [
    {
     "data": {
      "image/png": "[encoded data removed]",
      "text/plain": [
       "<Figure size 640x480 with 1 Axes>"
      ]
     },
     "metadata": {},
     "output_type": "display_data"
    }
   ],
   "source": [
    "zeta = mf6_swi.zeta_last\n",
    "x = gwf.modelgrid.xcellcenters.flatten()\n",
    "head = gwf.output.head().get_data().flatten()\n",
    "bud = gwf.output.budget()\n",
    "#print(head.flatten())\n",
    "#print(zeta.flatten())\n",
    "\n",
    "spdis = bud.get_data(text='DATA-SPDIS')[0]\n",
    "qx, qy, qz = flopy.utils.postprocessing.get_specific_discharge(spdis, gwf)\n",
    "pxs = flopy.plot.PlotCrossSection(gwf, line={\"row\":0})\n",
    "ax = pxs.ax\n",
    "if ncol < 50:\n",
    "    pxs.plot_grid()\n",
    "#pxs.plot_bc(\"ghb\")\n",
    "ax.plot(x, head, \"k-\")\n",
    "ax.plot(x, zeta, \"k--\")\n",
    "# freshwater\n",
    "ax.fill_between(x, head, zeta, color=\"cyan\")\n",
    "# saltwater\n",
    "ax.fill_between(x, zeta, botm, color=\"red\")\n",
    "# pxs.plot_vector(qx, qy, qz, normalize=True, color=\"black\")\n",
    "\n",
    "ax.plot(x, hds_usg, lw=0, mec=\"black\", mfc=\"none\", marker=\"o\")\n",
    "ax.plot(x, zeta_usg, lw=0, mec=\"black\", mfc=\"none\", marker=\"x\");\n"
   ]
  },
  {
   "cell_type": "code",
   "execution_count": 8,
   "metadata": {},
   "outputs": [],
   "source": [
    "fpth = pl.Path(ws) / f\"{name}.dis.grb\"\n",
    "grb = flopy.mf6.utils.MfGrdFile(fpth)\n",
    "ia = grb.ia\n",
    "ja = grb.ja\n",
    "nodes = grb.nodes\n",
    "flowja = bud.get_data(text=\"FLOW-JA-FACE\")[0].flatten()\n",
    "\n",
    "# print flows bewteen cells\n",
    "# for n in range(nodes):\n",
    "#     for ipos in range(ia[n] + 1, ia[n + 1]):\n",
    "#         m = ja[ipos]\n",
    "#         q = flowja[ipos]\n",
    "#         if m > n:\n",
    "#             print(f\"{n=} {m=} {q=}\")"
   ]
  },
  {
   "cell_type": "code",
   "execution_count": 9,
   "metadata": {},
   "outputs": [],
   "source": [
    "bobj = gwf.output.budget()"
   ]
  },
  {
   "cell_type": "code",
   "execution_count": 10,
   "metadata": {},
   "outputs": [
    {
     "data": {
      "text/plain": [
       "[b'    FLOW-JA-FACE',\n",
       " b'      DATA-SPDIS',\n",
       " b'        DATA-SAT',\n",
       " b'            RCHA',\n",
       " b'             CHD',\n",
       " b'         STORAGE']"
      ]
     },
     "execution_count": 10,
     "metadata": {},
     "output_type": "execute_result"
    }
   ],
   "source": [
    "bobj.get_unique_record_names()"
   ]
  },
  {
   "cell_type": "code",
   "execution_count": 11,
   "metadata": {},
   "outputs": [
    {
     "data": {
      "text/plain": [
       "[rec.array([( 1,  1, 0., 0.09647059), ( 2,  2, 0., 0.28789831),\n",
       "            ( 3,  3, 0., 0.36903927), ( 4,  4, 0., 0.43144829),\n",
       "            ( 5,  5, 0., 0.48281725), ( 6,  6, 0., 0.52647333),\n",
       "            ( 7,  7, 0., 0.5642388 ), ( 8,  8, 0., 0.5972444 ),\n",
       "            ( 9,  9, 0., 0.62624911), (10, 10, 0., 0.65179041),\n",
       "            (11, 11, 0., 0.67426381), (12, 12, 0., 0.69396851),\n",
       "            (13, 13, 0., 0.71113539), (14, 14, 0., 0.72594496),\n",
       "            (15, 15, 0., 0.73853934), (16, 16, 0., 0.74903048),\n",
       "            (17, 17, 0., 0.75750593), (18, 18, 0., 0.76403286),\n",
       "            (19, 19, 0., 0.76866098), (20, 20, 0., 0.77142451),\n",
       "            (21, 21, 0., 0.77234349), (22, 22, 0., 0.77142451),\n",
       "            (23, 23, 0., 0.76866098), (24, 24, 0., 0.76403286),\n",
       "            (25, 25, 0., 0.75750593), (26, 26, 0., 0.74903048),\n",
       "            (27, 27, 0., 0.73853934), (28, 28, 0., 0.72594496),\n",
       "            (29, 29, 0., 0.71113539), (30, 30, 0., 0.69396851),\n",
       "            (31, 31, 0., 0.67426381), (32, 32, 0., 0.65179041),\n",
       "            (33, 33, 0., 0.62624911), (34, 34, 0., 0.5972444 ),\n",
       "            (35, 35, 0., 0.5642388 ), (36, 36, 0., 0.52647333),\n",
       "            (37, 37, 0., 0.48281725), (38, 38, 0., 0.43144829),\n",
       "            (39, 39, 0., 0.36903927), (40, 40, 0., 0.28789831),\n",
       "            (41, 41, 0., 0.09647059)],\n",
       "           dtype=[('node', '<i4'), ('node2', '<i4'), ('q', '<f8'), ('sat', '<f8')])]"
      ]
     },
     "execution_count": 11,
     "metadata": {},
     "output_type": "execute_result"
    }
   ],
   "source": [
    "bobj.get_data(text=\"DATA-SAT\")"
   ]
  },
  {
   "cell_type": "code",
   "execution_count": 12,
   "metadata": {},
   "outputs": [
    {
     "data": {
      "text/plain": [
       "array([ -8.        , -23.87449386, -30.60325662, -35.77863827,\n",
       "       -40.03850339, -43.65876407, -46.79053438, -49.52758448,\n",
       "       -51.93285293, -54.05091224, -55.91456005, -57.54860844,\n",
       "       -58.97220322, -60.20031362, -61.24472557, -62.11472307,\n",
       "       -62.81756505, -63.35882274, -63.74261802, -63.97178862,\n",
       "       -64.04799638, -63.97178862, -63.74261802, -63.35882274,\n",
       "       -62.81756505, -62.11472307, -61.24472557, -60.20031362,\n",
       "       -58.97220322, -57.54860844, -55.91456005, -54.05091224,\n",
       "       -51.93285293, -49.52758448, -46.79053438, -43.65876407,\n",
       "       -40.03850339, -35.77863827, -30.60325662, -23.87449386,\n",
       "        -8.        ])"
      ]
     },
     "execution_count": 12,
     "metadata": {},
     "output_type": "execute_result"
    }
   ],
   "source": [
    "-head * 40."
   ]
  },
  {
   "cell_type": "code",
   "execution_count": 13,
   "metadata": {},
   "outputs": [
    {
     "data": {
      "text/plain": [
       "array([ -8.        , -23.87449386, -30.60325662, -35.77863827,\n",
       "       -40.03850339, -43.65876407, -46.79053438, -49.52758449,\n",
       "       -51.93285293, -54.05091224, -55.91456005, -57.54860844,\n",
       "       -58.97220322, -60.20031362, -61.24472557, -62.11472307,\n",
       "       -62.81756506, -63.35882275, -63.74261802, -63.97178862,\n",
       "       -64.04799638, -63.97178862, -63.74261802, -63.35882275,\n",
       "       -62.81756506, -62.11472307, -61.24472557, -60.20031362,\n",
       "       -58.97220322, -57.54860844, -55.91456005, -54.05091224,\n",
       "       -51.93285293, -49.52758449, -46.79053438, -43.65876407,\n",
       "       -40.03850339, -35.77863827, -30.60325662, -23.87449386,\n",
       "        -8.        ])"
      ]
     },
     "execution_count": 13,
     "metadata": {},
     "output_type": "execute_result"
    }
   ],
   "source": [
    "zeta"
   ]
  },
  {
   "cell_type": "code",
   "execution_count": 14,
   "metadata": {},
   "outputs": [
    {
     "data": {
      "text/plain": [
       "array([0.00000000e+00, 5.80868686e-12, 2.67732503e-11, 6.88800128e-11,\n",
       "       1.35450762e-10, 2.27551311e-10, 3.44321904e-10, 4.83382223e-10,\n",
       "       6.41186659e-10, 8.13273004e-10, 9.94660354e-10, 1.17998411e-09,\n",
       "       1.36376599e-09, 1.54064139e-09, 1.70551573e-09, 1.85367810e-09,\n",
       "       1.98094341e-09, 2.08374473e-09, 2.15926832e-09, 2.20543228e-09,\n",
       "       2.22095764e-09, 2.20543228e-09, 2.15926832e-09, 2.08374473e-09,\n",
       "       1.98093630e-09, 1.85367810e-09, 1.70552283e-09, 1.54064850e-09,\n",
       "       1.36376599e-09, 1.17998411e-09, 9.94674565e-10, 8.13287215e-10,\n",
       "       6.41186659e-10, 4.83389329e-10, 3.44329010e-10, 2.27558417e-10,\n",
       "       1.35457867e-10, 6.88800128e-11, 2.67768030e-11, 5.81223958e-12,\n",
       "       0.00000000e+00])"
      ]
     },
     "execution_count": 14,
     "metadata": {},
     "output_type": "execute_result"
    }
   ],
   "source": [
    "(-head * 40.) - zeta"
   ]
  },
  {
   "cell_type": "code",
   "execution_count": 15,
   "metadata": {},
   "outputs": [
    {
     "data": {
      "text/plain": [
       "1.6011999095644491"
      ]
     },
     "execution_count": 15,
     "metadata": {},
     "output_type": "execute_result"
    }
   ],
   "source": [
    "head.max()"
   ]
  },
  {
   "cell_type": "code",
   "execution_count": 16,
   "metadata": {},
   "outputs": [
    {
     "data": {
      "text/plain": [
       "array([ 0.00000000e+00, -3.43182327e-09, -4.49354842e-09, -3.23329175e-09,\n",
       "        4.66691685e-09,  1.84588744e-09, -4.86942930e-10,  2.11542073e-09,\n",
       "        3.35457107e-09, -4.10143031e-09,  1.13114473e-09,  9.85441284e-10,\n",
       "        5.59342794e-10,  5.34739586e-10, -8.13926038e-10, -3.32462768e-09,\n",
       "        6.36154396e-09, -1.40723344e-09,  5.69853498e-10,  5.55698532e-09,\n",
       "       -4.35550929e-10,  5.55698509e-09,  5.69853054e-10, -1.40723388e-09,\n",
       "        6.36154374e-09, -3.32462835e-09, -8.13926482e-10,  5.34739364e-10,\n",
       "        5.59342794e-10,  9.85441950e-10,  1.13114518e-09, -4.10142964e-09,\n",
       "        3.35457129e-09,  2.11542051e-09, -4.86942708e-10,  1.84588766e-09,\n",
       "        4.66691752e-09, -3.23329119e-09, -4.49354776e-09, -3.43182249e-09,\n",
       "        0.00000000e+00])"
      ]
     },
     "execution_count": 16,
     "metadata": {},
     "output_type": "execute_result"
    }
   ],
   "source": [
    "head - hds_usg"
   ]
  },
  {
   "cell_type": "code",
   "execution_count": null,
   "metadata": {},
   "outputs": [],
   "source": []
  }
 ],
 "metadata": {
  "kernelspec": {
   "display_name": "Python 3 (ipykernel)",
   "language": "python",
   "name": "python3"
  },
  "language_info": {
   "codemirror_mode": {
    "name": "ipython",
    "version": 3
   },
   "file_extension": ".py",
   "mimetype": "text/x-python",
   "name": "python",
   "nbconvert_exporter": "python",
   "pygments_lexer": "ipython3",
   "version": "3.11.7"
  }
 },
 "nbformat": 4,
 "nbformat_minor": 4
}
