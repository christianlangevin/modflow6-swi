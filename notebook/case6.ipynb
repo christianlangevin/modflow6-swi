{
 "cells": [
  {
   "cell_type": "markdown",
   "metadata": {},
   "source": [
    "# Attempt at Cape Cod Model (from SWI2 examples)"
   ]
  },
  {
   "cell_type": "code",
   "execution_count": null,
   "metadata": {},
   "outputs": [],
   "source": [
    "import pathlib as pl\n",
    "import shutil\n",
    "import subprocess\n",
    "import numpy as np\n",
    "import matplotlib.pyplot as plt\n",
    "import flopy\n",
    "\n",
    "# path to mf6 shared library\n",
    "# executables based on mf6 feat-swi branch at: \n",
    "#   https://github.com/langevin-usgs/modflow6/tree/feat-swi-correction\n",
    "\n",
    "# Put the name of the mf6 executable into mf6exe.txt,\n",
    "# which is not under version control.\n",
    "with open(pl.Path(\"./mf6exe.txt\"), \"r\") as f:\n",
    "    mf6exe = f.readline().strip()\n",
    "print(f\"using executable: {mf6exe}\")\n",
    "\n",
    "# data path contains the mf2005 Cape Cod SWI2 model\n",
    "data_pth = pl.Path(\"../data/swi2ex07\")\n",
    "sim_ws = pl.Path(\"./temp/case6\")"
   ]
  },
  {
   "cell_type": "code",
   "execution_count": null,
   "metadata": {},
   "outputs": [],
   "source": [
    "# copy the model into ./temp/case6/mf2005\n",
    "src = data_pth\n",
    "mf2005_path = sim_ws / \"mf2005\"\n",
    "shutil.copytree(src, mf2005_path, dirs_exist_ok=True)\n",
    "print(mf2005_path.resolve())"
   ]
  },
  {
   "cell_type": "code",
   "execution_count": null,
   "metadata": {},
   "outputs": [],
   "source": [
    "# load the mf2005 swi2 package to get starting zeta\n",
    "f = \"swi2ex7.nam\"\n",
    "m = flopy.modflow.Modflow.load(f, load_only=[\"SWI2\"], model_ws=mf2005_path)\n",
    "zetastrt = m.swi2.zeta[0].array"
   ]
  },
  {
   "cell_type": "code",
   "execution_count": null,
   "metadata": {},
   "outputs": [],
   "source": [
    "# run the mf5to6 converter\n",
    "cmd_list = [\"mf5to6\", \"swi2ex7.nam\", \"mf6\"]\n",
    "subprocess.run(\n",
    "    cmd_list,\n",
    "    cwd=str(mf2005_path.resolve()),\n",
    ")"
   ]
  },
  {
   "cell_type": "code",
   "execution_count": null,
   "metadata": {},
   "outputs": [],
   "source": [
    "# copy mf6 files into mf6 folder\n",
    "mf6_files = [x.parts[-1] for x in mf2005_path.glob(\"*\")]\n",
    "mf6_files = [x for x in mf6_files if x.startswith(\"mf6\")] + [\"mfsim.nam\"]\n",
    "mf6_files\n",
    "\n",
    "mf6_path = sim_ws / \"mf6\"\n",
    "mf6_path.mkdir(parents=True, exist_ok=True)\n",
    "\n",
    "for f in mf6_files:\n",
    "    src = mf2005_path / f\n",
    "    dst = mf6_path / f\n",
    "    print (f\"copying {src} => {dst}\")\n",
    "    shutil.copyfile(src, dst)"
   ]
  },
  {
   "cell_type": "code",
   "execution_count": null,
   "metadata": {},
   "outputs": [],
   "source": [
    "# run the 2005 version of the model? (this takes a while...)\n",
    "if False:\n",
    "    cmd_list = [\"mf2005\", \"swi2ex7.nam\"]\n",
    "    return_code = subprocess.call(cmd_list, shell=True, cwd=mf2005_path)\n",
    "    print(return_code)"
   ]
  },
  {
   "cell_type": "code",
   "execution_count": null,
   "metadata": {},
   "outputs": [],
   "source": [
    "# overwrite ims\n",
    "txt = \"\"\"BEGIN options\n",
    "  PRINT_OPTION ALL\n",
    "END options\n",
    "\n",
    "BEGIN nonlinear\n",
    "  OUTER_MAXIMUM  500\n",
    "  OUTER_DVCLOSE 0.01\n",
    "END nonlinear\n",
    "\n",
    "BEGIN linear\n",
    "  INNER_DVCLOSE 0.01\n",
    "  LINEAR_ACCELERATION bicgstab\n",
    "END linear\n",
    "\"\"\"\n",
    "fname = mf6_path / \"mf6.ims\"\n",
    "with open(fname, \"w\") as f:\n",
    "    f.write(txt)\n",
    "\n",
    "# overwrite tdis\n",
    "txt = \"\"\"BEGIN Options\n",
    "  TIME_UNITS  days\n",
    "END Options\n",
    "\n",
    "BEGIN Dimensions\n",
    "  NPER  1\n",
    "END Dimensions\n",
    "\n",
    "BEGIN PERIODDATA\n",
    "   18200.00000000  1       1.00000000\n",
    "END PERIODDATA\n",
    "\"\"\"\n",
    "fname = mf6_path / \"mf6.tdis\"\n",
    "with open(fname, \"w\") as f:\n",
    "    f.write(txt)\n",
    "\n",
    "# overwrite oc\n",
    "txt = \"\"\"BEGIN Options\n",
    "  BUDGET  FILEOUT  mf6.bud\n",
    "  HEAD  FILEOUT  mf6.hds\n",
    "END Options\n",
    "\n",
    "BEGIN PERIOD  1\n",
    "  SAVE  budget all\n",
    "  SAVE  head  all\n",
    "  PRINT  budget all\n",
    "END PERIOD  1\n",
    "\"\"\"\n",
    "fname = mf6_path / \"mf6.oc\"\n",
    "with open(fname, \"w\") as f:\n",
    "    f.write(txt)"
   ]
  },
  {
   "cell_type": "code",
   "execution_count": null,
   "metadata": {},
   "outputs": [],
   "source": [
    "# load the simulation\n",
    "sim = flopy.mf6.MFSimulation.load(sim_ws=mf6_path, exe_name=mf6exe)\n",
    "gwf = sim.gwf[0]\n",
    "gwf.newtonoptions = \"NEWTON\"\n",
    "botm = gwf.dis.botm.array\n",
    "\n",
    "npf = gwf.npf\n",
    "npf.perched = False\n",
    "npf.cvoptions = None\n",
    "\n",
    "zeta_file = gwf.name + '.zta'\n",
    "swi = flopy.mf6.ModflowGwfswi(gwf, zeta_filerecord=zeta_file, zetastrt=botm)\n",
    "\n",
    "sim.write_simulation()\n",
    "sim.run_simulation()"
   ]
  },
  {
   "cell_type": "code",
   "execution_count": null,
   "metadata": {},
   "outputs": [],
   "source": [
    "head_all = gwf.output.head().get_alldata()\n",
    "head = head_all[-1]\n",
    "#head[head < 1e30] /= 3.2808\n",
    "\n",
    "pmv = flopy.plot.PlotMapView(model=gwf)\n",
    "cb = pmv.plot_array(head)\n",
    "#pmv.contour_array(head, levels=[5, 10, 15], colors=\"k\")\n",
    "plt.colorbar(cb, shrink=0.5)\n",
    "\n",
    "jcol = 550\n",
    "x = gwf.modelgrid.xcellcenters[-1, jcol], gwf.modelgrid.xcellcenters[0, jcol]\n",
    "y = gwf.modelgrid.ycellcenters[-1, jcol], gwf.modelgrid.ycellcenters[0, jcol]\n",
    "pmv.ax.plot(x, y, 'r-')\n",
    "x, y"
   ]
  },
  {
   "cell_type": "code",
   "execution_count": null,
   "metadata": {},
   "outputs": [],
   "source": [
    "fpth = mf6_path / f\"{gwf.name}.zta\"\n",
    "zeta_all = flopy.utils.HeadFile(fpth, text=\"zeta\").get_alldata()\n",
    "zeta = zeta_all[-1].flatten()\n",
    "\n",
    "pmv = flopy.plot.PlotMapView(model=gwf)\n",
    "cb = pmv.plot_array(zeta)\n",
    "plt.colorbar(cb, shrink=0.5)\n"
   ]
  },
  {
   "cell_type": "code",
   "execution_count": null,
   "metadata": {},
   "outputs": [],
   "source": [
    "# Guestimate the column number used in the SWI2 report for A-A'\n",
    "jcol = 550\n",
    "istart = np.where(head[0, :, jcol] < 1.e30)[0][0]\n",
    "istop =  np.where(head[0, :, jcol] < 1.e30)[0][-1]\n",
    "\n",
    "x = gwf.modelgrid.ycellcenters[:, jcol]\n",
    "x = x[0] - x\n",
    "x = x[istart:istop]\n",
    "\n",
    "fig = plt.figure(figsize=(10, 4))\n",
    "ax = fig.add_subplot(1, 1, 1)\n",
    "\n",
    "# top\n",
    "t = gwf.dis.top.array[:, jcol]\n",
    "t = t[istart:istop]\n",
    "ax.plot(x, t)\n",
    "\n",
    "# bot\n",
    "b = gwf.dis.botm.array[0, :, jcol]\n",
    "b = b[istart:istop]\n",
    "\n",
    "# head\n",
    "h = head[0, :, jcol]\n",
    "h[h==1.e30] = np.nan\n",
    "h = h[istart:istop]\n",
    "\n",
    "# zeta\n",
    "z = zeta_all[-1][0, :, jcol]\n",
    "z[z==1.e30] = np.nan\n",
    "z = z[istart:istop]\n",
    "\n",
    "# fill\n",
    "ax.fill_between(x, -350, b, color=\"gray\")\n",
    "ax.fill_between(x, b, z, color=\"red\")\n",
    "ax.fill_between(x, z, h, color=\"cyan\")\n"
   ]
  },
  {
   "cell_type": "code",
   "execution_count": null,
   "metadata": {},
   "outputs": [],
   "source": []
  }
 ],
 "metadata": {
  "kernelspec": {
   "display_name": "modflow6",
   "language": "python",
   "name": "python3"
  },
  "language_info": {
   "codemirror_mode": {
    "name": "ipython",
    "version": 3
   },
   "file_extension": ".py",
   "mimetype": "text/x-python",
   "name": "python",
   "nbconvert_exporter": "python",
   "pygments_lexer": "ipython3",
   "version": "3.12.1"
  }
 },
 "nbformat": 4,
 "nbformat_minor": 2
}
